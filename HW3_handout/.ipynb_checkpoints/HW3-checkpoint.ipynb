{
 "cells": [
  {
   "cell_type": "markdown",
   "metadata": {
    "deletable": false,
    "editable": false,
    "nbgrader": {
     "checksum": "d5d934df9310d9448cdffe1bc2e8a65b",
     "grade": false,
     "grade_id": "cell-e009fd0eb7f5e1d2",
     "locked": true,
     "schema_version": 1,
     "solution": false
    }
   },
   "source": [
    "Homework 3 — (20 points)\n",
    "======\n",
    "### What to hand in\n",
    "You are to submit the following things for this homework:\n",
    "1. A Jupyter notebook containing all code and output (figures and audio). I should be able to evaluate the file to reproduce all output. \n",
    "1. Any other data that we tell you to save to a file (e.g. audio files).\n",
    "\n",
    "Note: Make sure to include all the files that are required for the notebook to run **from the submission folder** (e.g. police_noisy.wav). Points will be taken off from submissions that crash because Python cannot find the specified files.\n",
    "\n",
    "### How to hand it in\n",
    "To submit your lab:\n",
    "1. Compress all of the files specified into a .zip file. \n",
    "1. Name the file in the following manner, firstname_lastname_hw1.zip. For example, Bryan_Pardo_hw3.zip. \n",
    "1. Submit this .zip file via Canvas"
   ]
  },
  {
   "cell_type": "markdown",
   "metadata": {
    "deletable": false,
    "editable": false,
    "nbgrader": {
     "checksum": "b8f800d35efe498eed6ee4533dd570f2",
     "grade": false,
     "grade_id": "cell-5750646bd03c744f",
     "locked": true,
     "schema_version": 1,
     "solution": false
    }
   },
   "source": [
    "# *Please write down your name here* =>"
   ]
  },
  {
   "cell_type": "markdown",
   "metadata": {},
   "source": [
    "Nneoma Oradiegwu"
   ]
  },
  {
   "cell_type": "markdown",
   "metadata": {
    "deletable": false,
    "editable": false,
    "nbgrader": {
     "checksum": "652cd739ad95e12843908165f5ecccc6",
     "grade": false,
     "grade_id": "cell-ecdcdda315b6289b",
     "locked": true,
     "schema_version": 1,
     "solution": false
    }
   },
   "source": [
    "### Run this code block 1st, to import the needed packages"
   ]
  },
  {
   "cell_type": "code",
   "execution_count": null,
   "metadata": {},
   "outputs": [],
   "source": [
    "# This line is a convenience to import most packages you'll need. You may need to import others (e.g. random and cmath)\n",
    "import IPython, numpy as np, scipy as sp, matplotlib.pyplot as plt, matplotlib, sklearn, librosa, cmath,math, csv\n",
    "from IPython.display import Audio\n",
    "from sklearn.datasets import load_iris\n",
    "# This line makes sure your plots happen IN the webpage you're building, instead of in separate windows.\n",
    "%matplotlib inline"
   ]
  },
  {
   "cell_type": "markdown",
   "metadata": {
    "deletable": false,
    "editable": false,
    "nbgrader": {
     "checksum": "97748a180cc4703509d35c8215fc859d",
     "grade": false,
     "grade_id": "cell-0178910fb5907927",
     "locked": true,
     "schema_version": 1,
     "solution": false
    }
   },
   "source": [
    "## IMPLEMENT DISTANCE MEASURES\n",
    "\n",
    "#### 1. (1 point) Implement a distance measure that takes two numpy arrays and an a positive scalar as input  and returns a distance measure between these two numpy arrays based on a generalized P-norm (AKA L-norm)  (e.g. P = 1 means Manhattan distance, P = 2 is Euclidean). The only library you may use to write this function is numpy."
   ]
  },
  {
   "cell_type": "code",
   "execution_count": null,
   "metadata": {
    "deletable": false,
    "nbgrader": {
     "checksum": "13e510ef3a593f7e1e7422d3b4a2cf6d",
     "grade": false,
     "grade_id": "cell-52f83b00186467f7",
     "locked": false,
     "schema_version": 1,
     "solution": true
    }
   },
   "outputs": [],
   "source": [
    "def p_norm_distance(x, y, p):\n",
    "    \"\"\"\n",
    "    Takes a pair of numpy arrays, applies the appropriate p-norm distance measure to them and outputs it.\n",
    "    \n",
    "    Input Parameters\n",
    "    ----------------\n",
    "    x: a 1D numpy array of a feature vector\n",
    "    y: a 1D numpy array of a feature vector\n",
    "    p: integer, If 1, use Manhattan distance. If 2, use Euclidean distance\n",
    "                \n",
    "    Returns\n",
    "    -------\n",
    "    distance: a non-zero scalar, representing the distance between x and y\n",
    "    \"\"\"\n",
    "    \n",
    "    if p == 1:\n",
    "        distance = np.linalg.norm(x - y, ord=1)\n",
    "    elif p == 2:\n",
    "        distance = np.linalg.norm(x - y, ord=2)\n",
    "    \n",
    "#     raise NotImplementedError # delete this line when you add your solution\n",
    "\n",
    "    return distance\n"
   ]
  },
  {
   "cell_type": "code",
   "execution_count": null,
   "metadata": {},
   "outputs": [],
   "source": [
    "# x = np.array([1,2])\n",
    "# y = np.array([3,4])\n",
    "# p_norm_distance(x, y, 2)"
   ]
  },
  {
   "cell_type": "code",
   "execution_count": null,
   "metadata": {
    "deletable": false,
    "editable": false,
    "nbgrader": {
     "checksum": "c8ae637208c16cc6801287a3d025b9e1",
     "grade": true,
     "grade_id": "cell-2e6b64e1416a17c0",
     "locked": true,
     "points": 1,
     "schema_version": 1,
     "solution": false
    }
   },
   "outputs": [],
   "source": [
    "# you can leave this cell blank - it's for the auto-grader"
   ]
  },
  {
   "cell_type": "markdown",
   "metadata": {
    "deletable": false,
    "editable": false,
    "nbgrader": {
     "checksum": "16acd7fb51852ea165f07a07018c4a96",
     "grade": false,
     "grade_id": "cell-ea1fd9c66062c9a1",
     "locked": true,
     "schema_version": 1,
     "solution": false
    }
   },
   "source": [
    "#### 2. (1 point) Create two sets of test cases that run your code from the previous question and illustrate it works correctly. The test cases include one for Manhatten distance and the other for euclidean distance. Compare your implementation with distance functions provided in the Scipy package:\n",
    "\n",
    "* Manhattan diatance: [scipy.spatial.distance.cityblock](https://docs.scipy.org/doc/scipy-0.14.0/reference/generated/scipy.spatial.distance.cityblock.html) \n",
    "* Euclidean distance: [scipy.spatial.distance.euclidean](https://docs.scipy.org/doc/scipy-0.14.0/reference/generated/scipy.spatial.distance.euclidean.html)"
   ]
  },
  {
   "cell_type": "code",
   "execution_count": null,
   "metadata": {
    "deletable": false,
    "nbgrader": {
     "checksum": "cc4c4edd355b6a3f6e48930196fbd305",
     "grade": true,
     "grade_id": "cell-f2f0588088042c43",
     "locked": false,
     "points": 1,
     "schema_version": 1,
     "solution": true
    }
   },
   "outputs": [],
   "source": [
    "# raise NotImplementedError # delete this line when you add your solution\n",
    "\n",
    "x = np.array([1,2,3,4,5])\n",
    "y = np.array([6,7,8,9,10])\n",
    "\n",
    "print(p_norm_distance(x, y, 1) == sp.spatial.distance.cityblock(x,y))\n",
    "print(p_norm_distance(x, y, 2) == sp.spatial.distance.euclidean(x,y))"
   ]
  },
  {
   "cell_type": "markdown",
   "metadata": {
    "deletable": false,
    "editable": false,
    "nbgrader": {
     "checksum": "328eb7875fca0a00d9226c2e101bb019",
     "grade": false,
     "grade_id": "cell-b94f42c35ead5da4",
     "locked": true,
     "schema_version": 1,
     "solution": false
    }
   },
   "source": [
    "#### 3. (1 point) Implement a distance measure that takes two vectors as input and returns the cosine distance between them."
   ]
  },
  {
   "cell_type": "code",
   "execution_count": null,
   "metadata": {
    "deletable": false,
    "nbgrader": {
     "checksum": "eac97089a76e47515fae96a0fc3cf191",
     "grade": false,
     "grade_id": "cell-eca41a1e79a92c27",
     "locked": false,
     "schema_version": 1,
     "solution": true
    }
   },
   "outputs": [],
   "source": [
    "def cosine_distance(x, y):\n",
    "    \"\"\"\n",
    "    Takes a pair of numpy arrays, applies cosine distnace between them.\n",
    "    \n",
    "    Input Parameters\n",
    "    ----------------\n",
    "    x: a 1D numpy array of a feature vector\n",
    "    y: a 1D numpy array of a feature vector\n",
    "                \n",
    "    Returns\n",
    "    -------\n",
    "    distance: the cosine distance between x and y\n",
    "    \"\"\"\n",
    "    \n",
    "    x_y_dot = np.dot(x, y)\n",
    "    sqrt_sum_x = np.linalg.norm(x)\n",
    "    sqrt_sum_y = np.linalg.norm(y)\n",
    "\n",
    "    \n",
    "    distance = x_y_dot / (sqrt_sum_x * sqrt_sum_y)\n",
    "    distance = 1 - distance\n",
    "    \n",
    "#     raise NotImplementedError # delete this line when you add your solution\n",
    "    \n",
    "    return distance"
   ]
  },
  {
   "cell_type": "code",
   "execution_count": null,
   "metadata": {
    "deletable": false,
    "editable": false,
    "nbgrader": {
     "checksum": "f60afd907c4fc38f3e624921cfb3140d",
     "grade": true,
     "grade_id": "cell-71161d6353946d6f",
     "locked": true,
     "points": 1,
     "schema_version": 1,
     "solution": false
    }
   },
   "outputs": [],
   "source": [
    "# you can leave this cell blank - it's for the auto-grader"
   ]
  },
  {
   "cell_type": "markdown",
   "metadata": {
    "deletable": false,
    "editable": false,
    "nbgrader": {
     "checksum": "81e32bb41f01c7ea7fed186ff6d098e4",
     "grade": false,
     "grade_id": "cell-fb2d4ff5e997eea0",
     "locked": true,
     "schema_version": 1,
     "solution": false
    }
   },
   "source": [
    "#### 4. (1 point) Create two sets of test cases that run your code from the previous question and illustrate it works correctly. Compare your implementation with distance functions provided in the Scipy package:\n",
    "\n",
    "* Cosine diatance: [scipy.spatial.distance.cosine](https://docs.scipy.org/doc/scipy-0.14.0/reference/generated/scipy.spatial.distance.cosine.html) "
   ]
  },
  {
   "cell_type": "code",
   "execution_count": null,
   "metadata": {
    "deletable": false,
    "nbgrader": {
     "checksum": "36df5f3801d584182649a99363bff4ab",
     "grade": true,
     "grade_id": "cell-ae9fe4f36d81fd8a",
     "locked": false,
     "points": 1,
     "schema_version": 1,
     "solution": true
    }
   },
   "outputs": [],
   "source": [
    "# raise NotImplementedError # delete this line when you add your solution\n",
    "\n",
    "x = np.array([1,2,3,4,5])\n",
    "y = np.array([6,7,8,9,10])\n",
    "z = np.array([21,324,6785,546,143])\n",
    "\n",
    "print(sp.spatial.distance.cosine(x,y) == cosine_distance(x,y))\n",
    "print(sp.spatial.distance.cosine(y,z) == cosine_distance(y,z))\n",
    "print(sp.spatial.distance.cosine(x,x) == cosine_distance(x,x))\n"
   ]
  },
  {
   "cell_type": "markdown",
   "metadata": {
    "deletable": false,
    "editable": false,
    "nbgrader": {
     "checksum": "946f5d4dd165d3f3b82d31927421257d",
     "grade": false,
     "grade_id": "cell-98195f6a5367c49a",
     "locked": true,
     "schema_version": 1,
     "solution": false
    }
   },
   "source": [
    "#### 5. (1 point) Describe an example situation where Cosine distance would be preferable to Euclidean distance. We want two parts to this: First, explain a fundamental property where Cosine distance differs from Euclidean. Second, give an example situation (relating to audio) where that property would be an advantage."
   ]
  },
  {
   "cell_type": "markdown",
   "metadata": {
    "deletable": false,
    "nbgrader": {
     "checksum": "1bc39c05007227cbfb552dc12db72104",
     "grade": true,
     "grade_id": "cell-c78f41e8f53b0b81",
     "locked": false,
     "points": 1,
     "schema_version": 1,
     "solution": true
    }
   },
   "source": [
    "Part one: cosine similarity/distance only focuses on if two vectors are similar. It normalizes the vectors as an integral part of calculating the cosine distance. Eucledian distance does not offer any sort of helpful scaling or normalization. \n",
    "\n",
    "Part two: If there were two audio files of the same exact song, but one was much louder than the other, euclidean distance would fail. It would show a large difference/distance between these two files, because there is not any feature scaling done in finding eucledian distance. Cosine similarity offers an immunity to scaling differences like this, because it only cares that these two vectors are similar or \"pointing in the same direction\"."
   ]
  },
  {
   "cell_type": "markdown",
   "metadata": {},
   "source": [
    "## IMPLEMENT A K-NEAREST NEIGHBOR CLASSIFIER\n",
    "\n",
    "#### 6. (2 points) Implement a K-nearest-neighbor classifier that can use either Euclidean distance or Cosine distance. (Use the Scipy package for distance meatures)\n"
   ]
  },
  {
   "cell_type": "code",
   "execution_count": null,
   "metadata": {
    "deletable": false,
    "nbgrader": {
     "checksum": "6c7e0a3a8f1e5e23c7e57e760da8d044",
     "grade": false,
     "grade_id": "cell-a1443bbaecc1b976",
     "locked": false,
     "schema_version": 1,
     "solution": true
    }
   },
   "outputs": [],
   "source": [
    "def knn(data_X, data_Y, query_X, dist_measure, k):\n",
    "    \"\"\"\n",
    "    Takes a data set of examples encoded as feature vectors, along with the label for each example in the data. \n",
    "    It also takes in a set of queries, for which we want to know the labels. It finds the distance from each \n",
    "    query_X to each example in data_X. It returns a label for each example in query_X by picking the most \n",
    "    popular label from the k nearest neighbors in data_X. Distance is determined by the selected distance metric.\n",
    "    \n",
    "    Input Parameters\n",
    "    ----------------\n",
    "    data_X: a 2-D numpy array with a shape of (the number of examples in the data, the number of features).\n",
    "    data_Y: a 1-D numpy array containing integer labels for the examples in data_X. \n",
    "            The labels should be encoded as integer values BEFORE they are passed this function.\n",
    "            (E.g., [class1, class1, class2, class1] ==> [0, 0, 1, 0])\n",
    "    query_X: a 2-D numpy array with a shape of (the number of query examples, the number of features). \n",
    "            Note, the query_X must have the same number of features, in the same order as the data_X \n",
    "    dist_measure: a string determining which distance measure to use. ('euclidean' or 'cosine')\n",
    "    k: the number of nearest neighbors in the data to consider, when labeling a query\n",
    "    \n",
    "    Returns\n",
    "    ----------------\n",
    "    query_Y: a 1-D numpy array of integer values referring to predicted labels for the set of queries\n",
    "    \"\"\"\n",
    "    \n",
    "    # nested for loop\n",
    "    # for each query,\n",
    "        # for each vector in train_x,\n",
    "            # check query distance to each train_X vector and\n",
    "            # store the distance between each query in a vector the same size as train_Y\n",
    "        # in a vector the height of (#vecs in) query_X store the label that matches the index of the smallest number\n",
    "    # return\n",
    "    \n",
    "    query_Y = []\n",
    "        \n",
    "    for q_x in query_X: # check each query \n",
    "        k_smallest = np.array([])\n",
    "        distances = np.array([])\n",
    "        for t_x in data_X: # against each training datum\n",
    "            if dist_measure == \"euclidean\":\n",
    "                dist = sp.spatial.distance.euclidean(q_x, t_x)\n",
    "                distances = np.append(distances, dist) # append the euclidean distance between query and datum\n",
    "            elif dist_measure == \"cosine\":\n",
    "                dist = sp.spatial.distance.cosine(q_x, t_x)\n",
    "                distances = np.append(distances, dist) # append the cosine distance \"\"\n",
    "        \n",
    "        # grab smallest k\n",
    "        for i in range(k):\n",
    "            min_dist_ind = np.argmin(distances) # index of min distance\n",
    "            k_smallest = np.append(k_smallest, min_dist_ind) # track indices\n",
    "            distances[min_dist_ind] = np.argmax(distances) + 1 # reset so it is no longer min, but don't change sizing\n",
    "        k_smallest = k_smallest.astype(int)\n",
    "        for i in range(len(k_smallest)):\n",
    "            k_smallest[i] = data_Y[k_smallest[i]] # go from index of label in data_Y to label in data_Y\n",
    "        \n",
    "        query_Y.append(np.bincount(k_smallest).argmax())  # grab the most common label, append to label array\n",
    "        \n",
    "    return query_Y\n",
    "    \n",
    "#     raise NotImplementedError # delete this line when you add your solution"
   ]
  },
  {
   "cell_type": "code",
   "execution_count": null,
   "metadata": {
    "deletable": false,
    "editable": false,
    "nbgrader": {
     "checksum": "aab8e33af290169e54f21741ac175324",
     "grade": true,
     "grade_id": "cell-1e7e081dd82b94ce",
     "locked": true,
     "points": 2,
     "schema_version": 1,
     "solution": false
    }
   },
   "outputs": [],
   "source": [
    "# you can leave this cell blank - it's for the auto-grader"
   ]
  },
  {
   "cell_type": "markdown",
   "metadata": {
    "deletable": false,
    "editable": false,
    "nbgrader": {
     "checksum": "55b72457afb3e75611ce38d7880a271c",
     "grade": false,
     "grade_id": "cell-dd0b482c2c08397d",
     "locked": true,
     "schema_version": 1,
     "solution": false
    }
   },
   "source": [
    "#### 7. (1 point) Generate a toy test case that would make different classification choices, depending on which metric (Euclidean or Cosine) you choose.  Before running the actual code, in this problem, you are going to classify test data by eye-balling it.\n",
    "\n",
    "1) Generate a training set of 10 data points with 2 features (i.e. 2-dimensional vectors) and 2 classes. The training set should include two numpy array: train_X of shape (10, 2) and train_Y of shape (10, ). train_Y contains 0 or 1 each of which indicates the first class and the second class.\n",
    "\n",
    "2) Plot the training set on 2-D feature space with color coded classes, so we can tell which one belongs to which class.\n",
    "\n",
    "3) Generate a test set of 3 data points with 2 features. The test set should include two numpy array: test_X of shape (3, 2). Plot them on the figure you created in the previous step. Use a color that was not used for the trainng set.\n",
    "\n",
    "4) Make sure the figure has a proper legend so we can tell which data points are training data of class1 or class2, or testing data.\n",
    "\n",
    "5) Perform KNN classification by eye-balling it (**K=3**). Tell the predicted class of each testing data point if you use Euclidean distance. \n",
    "\n",
    "6) Perform KNN classification AGAIN by eye-balling it (**K=3**). Tell the predicted class of each testing data point if you use Cosine distance. "
   ]
  },
  {
   "cell_type": "code",
   "execution_count": null,
   "metadata": {
    "deletable": false,
    "nbgrader": {
     "checksum": "ad5ff8da351613120afc78d3d7a7731a",
     "grade": true,
     "grade_id": "cell-8426109502145d91",
     "locked": false,
     "points": 0.5,
     "schema_version": 1,
     "solution": true
    }
   },
   "outputs": [],
   "source": [
    "train_X = np.array([[1,2], [3,3], [3,4], [4,4], [5,6], [30,20], [10,20], [20,30], [50,20], [30,10]]) #replace it with your training data \n",
    "train_Y = np.array([0,0,0,0,0,1,1,1,1,1]) # replace it with labels of your training data\n",
    "\n",
    "test_X = np.array([[7,7], [30,40], [5,2]]) # replace it with your testing data\n",
    "\n",
    "\n",
    "# your code to generate the plot goes here\n",
    "\n",
    "color_labels = ['green', 'cyan']\n",
    "\n",
    "plt_train_x,plt_train_y = train_X.T\n",
    "train_plt = plt.scatter(plt_train_x, plt_train_y, c=train_Y, cmap=matplotlib.colors.ListedColormap(color_labels))\n",
    "\n",
    "plt_test_x, plt_test_y = test_X.T\n",
    "\n",
    "test_plt = plt.scatter(plt_test_x, plt_test_y, color='orange')\n",
    "\n",
    "legend_elems = [matplotlib.lines.Line2D([0], [0], color='green', label='label 1'),\n",
    "                matplotlib.lines.Line2D([0], [0], color='cyan', label='label 2'),\n",
    "                matplotlib.lines.Line2D([0], [0], color='orange', label='test data')]\n",
    "plt.legend(handles=legend_elems)\n",
    "plt.show()\n",
    "\n",
    "\n",
    "# raise NotImplementedError # delete this line when you add your solution"
   ]
  },
  {
   "cell_type": "code",
   "execution_count": null,
   "metadata": {
    "deletable": false,
    "nbgrader": {
     "checksum": "4c34984db1cbea28861313289c4f2ff5",
     "grade": true,
     "grade_id": "cell-f7204e4e6b1ebb7a",
     "locked": false,
     "points": 0.5,
     "schema_version": 1,
     "solution": true
    }
   },
   "outputs": [],
   "source": [
    "# The predicted labels of the testing data, given Euclidean distance, goes here\n",
    "test_Y_euclidean = np.array([0, 1, 0]) # replace these values with the right labels\n",
    "\n",
    "# The predicted labels of the testing data, given Cosine distance, goes here\n",
    "test_Y_cosine = np.array([0, 0, 0]) # replace these values with the right labels\n",
    "\n"
   ]
  },
  {
   "cell_type": "markdown",
   "metadata": {
    "deletable": false,
    "editable": false,
    "nbgrader": {
     "checksum": "57afdedc9845088d3332c8d71992ef7f",
     "grade": false,
     "grade_id": "cell-3c8fccf192fb6223",
     "locked": true,
     "schema_version": 1,
     "solution": false
    }
   },
   "source": [
    "#### 8. (1 point) Test your implementation of KNN (K=3) with the training and testing set you generated from question 7 and compare the predicted labels from your code with labels you predicted in question 7."
   ]
  },
  {
   "cell_type": "code",
   "execution_count": null,
   "metadata": {
    "deletable": false,
    "nbgrader": {
     "checksum": "6b147a66b6e6e2844d6d949df291ba10",
     "grade": true,
     "grade_id": "cell-678ba5473c172ab2",
     "locked": false,
     "points": 1,
     "schema_version": 1,
     "solution": true
    }
   },
   "outputs": [],
   "source": [
    "# knn(data_X, data_Y, query_X, dist_measure, k)\n",
    "query_Y_eu = knn(train_X, train_Y, test_X, 'euclidean', 3)\n",
    "query_Y_cos = knn(train_X, train_Y, test_X, 'cosine', 3)\n",
    "\n",
    "print(query_Y_eu, query_Y_cos)\n"
   ]
  },
  {
   "cell_type": "markdown",
   "metadata": {
    "deletable": false,
    "editable": false,
    "nbgrader": {
     "checksum": "51838594ab2dc23122ea112e979c404a",
     "grade": false,
     "grade_id": "cell-fbcce8e7e706c024",
     "locked": true,
     "schema_version": 1,
     "solution": false
    }
   },
   "source": [
    "#### 9. (1 point) Implement an evaluation function that takes a vector of true labels and a vector of predicted labels and outputs classification accuracy and a confusion matrix. "
   ]
  },
  {
   "cell_type": "code",
   "execution_count": null,
   "metadata": {
    "deletable": false,
    "nbgrader": {
     "checksum": "31a5755c1c1c8dc1017009297764c329",
     "grade": false,
     "grade_id": "cell-286eff62194138af",
     "locked": false,
     "schema_version": 1,
     "solution": true
    }
   },
   "outputs": [],
   "source": [
    "def evaluation(pred, truth, n_classes):\n",
    "    '''\n",
    "    Takes a set of predicted labels and ground truth labels, and compute the classification accuracy. \n",
    "    Input Parameters\n",
    "    ----------------\n",
    "    pred: a 1-D numpy array of integer values which refer to labels predicted from a classifier.\n",
    "    truth: a 1-D numpy array of integer values which refer to ground truth labels\n",
    "    n_classes: a number of classes in your dataset.\n",
    "\n",
    "    \n",
    "    Returns\n",
    "    -----------------\n",
    "    accuracy: a float number indicating the classification accuracy as a number in the range 0 to 1.\n",
    "    confusion: a n-D numpy array of confusion matrix with the shape of (n_classes, n_classes)\n",
    "\n",
    "    '''\n",
    "    correct_count = 0\n",
    "    confusion = np.zeros(shape=(n_classes, n_classes))\n",
    "    truth = [int(x) for x in truth]\n",
    "    pred = [int(x) for x in pred]\n",
    "    for i in range(len(truth)):\n",
    "        if pred[i] == truth[i]:\n",
    "            correct_count += 1\n",
    "        \n",
    "        # confusion matrix\n",
    "        confusion[truth[i], pred[i]] = confusion[truth[i], pred[i]] + 1 # inc box the represents the cross-section of truth&pred\n",
    "    \n",
    "    accuracy = correct_count/len(truth)\n",
    "    \n",
    "    return accuracy, confusion"
   ]
  },
  {
   "cell_type": "code",
   "execution_count": null,
   "metadata": {
    "deletable": false,
    "editable": false,
    "nbgrader": {
     "checksum": "6d2873cdc52c78caf984c2663660c323",
     "grade": true,
     "grade_id": "cell-055d8c616f5e3b64",
     "locked": true,
     "points": 1,
     "schema_version": 1,
     "solution": false
    }
   },
   "outputs": [],
   "source": [
    "# you don't need to put anything here, this cell is for the autograder"
   ]
  },
  {
   "cell_type": "code",
   "execution_count": null,
   "metadata": {},
   "outputs": [],
   "source": [
    "truth = np.array([0,0,1,1,2,2])\n",
    "pred = np.array([1,0,1,1,0,0])\n",
    "accuracy, confusion = evaluation(pred, truth, 3)\n",
    "print(accuracy)\n",
    "print(confusion)"
   ]
  },
  {
   "cell_type": "markdown",
   "metadata": {
    "deletable": false,
    "editable": false,
    "nbgrader": {
     "checksum": "ace6242b59d78893c63274222fbdead5",
     "grade": false,
     "grade_id": "cell-5c3d918a0aff8218",
     "locked": true,
     "schema_version": 1,
     "solution": false
    }
   },
   "source": [
    "#### 10. (1 point) Now complete the *KNN_testing* function to test your KNN classifier on a real dataset. You can load the dataset by calling *load_dataset* provided below. It returns training set and testing set of two classes. Build a KNN classifier on the training set and evaulate it on the provided testing set using the functions you implemented in the previous question.\n",
    "\n",
    "* *NOTE: When running KNN, set K=2 and use euclidean distance*"
   ]
  },
  {
   "cell_type": "code",
   "execution_count": null,
   "metadata": {
    "deletable": false,
    "nbgrader": {
     "checksum": "e49798c530fa6ace5bf418a38348da22",
     "grade": false,
     "grade_id": "cell-22bc87173f8ebd45",
     "locked": false,
     "schema_version": 1,
     "solution": true
    }
   },
   "outputs": [],
   "source": [
    "def load_dataset():\n",
    "    \n",
    "    iris = load_iris()\n",
    "    data_X = iris.data\n",
    "    data_Y = iris.target\n",
    "    data_X_class1 = data_X[data_Y==1, :]\n",
    "    data_X_class2 = data_X[data_Y==2, :]\n",
    "    train_X = np.vstack((data_X_class1[:30, :], data_X_class2[:30, :]))\n",
    "    train_Y = np.array([0]*30+[1]*30)\n",
    "    test_X = np.vstack((data_X_class1[30:, :], data_X_class2[30:, :]))\n",
    "    test_Y = np.array([0]*20+[1]*20)\n",
    "\n",
    "    return train_X, train_Y, test_X, test_Y\n",
    "\n",
    "def KNN_testing():\n",
    "    \n",
    "    '''\n",
    "    Returns\n",
    "    -----------------\n",
    "    accuracy: a float number indicating the classification accuracy as a number in the range 0 to 1.\n",
    "    confusion: a 2-D numpy array of confusion matrix.\n",
    "    '''\n",
    "    \n",
    "    # data loading\n",
    "    train_X, train_Y, test_X, test_Y = load_dataset()\n",
    "    \n",
    "    # knn(data_X, data_Y, query_X, dist_measure, k)\n",
    "    pred_Y = knn(train_X, train_Y, test_X, 'euclidean', 2)\n",
    "    \n",
    "    # evaluation(pred, truth, n_classes)\n",
    "    accuracy, confusion = evaluation(pred_Y, test_Y, 2)\n",
    "    \n",
    "    return accuracy, confusion"
   ]
  },
  {
   "cell_type": "code",
   "execution_count": null,
   "metadata": {
    "deletable": false,
    "editable": false,
    "nbgrader": {
     "checksum": "022cf1750be4a5c9456fb3efcb3aece6",
     "grade": true,
     "grade_id": "cell-54917582202f695d",
     "locked": true,
     "points": 1,
     "schema_version": 1,
     "solution": false
    }
   },
   "outputs": [],
   "source": [
    "# you don't need to put anything here, this cell is for the autograder"
   ]
  },
  {
   "cell_type": "code",
   "execution_count": null,
   "metadata": {},
   "outputs": [],
   "source": [
    "KNN_testing() # same as sklearn knn, so not too shabby"
   ]
  },
  {
   "cell_type": "markdown",
   "metadata": {
    "deletable": false,
    "editable": false,
    "nbgrader": {
     "checksum": "aaee0c6e5ce90b1fd4c16bc8d21f0a09",
     "grade": false,
     "grade_id": "cell-34d6e63bccb26d7c",
     "locked": true,
     "schema_version": 1,
     "solution": false
    }
   },
   "source": [
    "# Audio classification\n",
    "\n",
    "#### In the lecture, we have walked you through the procedure of door knock/phone rining classification. In the following questions, you are going to go through the same procedure, but with different dataset. In this homework, you are going to use ESC-50 [https://github.com/karoldvl/ESC-50] dataset. \n",
    "\n",
    "1. Open `./dataset/meta/esc50.csv` in the dataset. It contains a list of file names and their labels. While the csv files contains 2000 file names, you are going to use only two classes of audio events: *sneezing and snoring*. We included the audio files of *sneezing and snoring* in the homework (`./dataset/audio/`), so you do not need to download the dataset from the official website.\n",
    "\n",
    "2. As shown in `./dataset/meta/esc50.csv`, there are 40 examples per class and the 40 examples are split into 5 folds. You are going to use folds 1-3 as a training set and 4-5 as a testing set. Since each fold contains 8 examples and you are using two classes, you will end up with 48 training examples (24 sneezings, 24 snorings) and 32 testing examples (16 sneezings, 16 snorings)."
   ]
  },
  {
   "cell_type": "markdown",
   "metadata": {
    "deletable": false,
    "editable": false,
    "nbgrader": {
     "checksum": "b9e5a1045b2bd8be23b5a820a03e3e0b",
     "grade": false,
     "grade_id": "cell-a68a6fb9be0089c4",
     "locked": true,
     "schema_version": 1,
     "solution": false
    }
   },
   "source": [
    "#### 11. (2 points) Implement a feature extraction function. It takes an audio file path, extract audio features, and outputs a single feature vector. \n",
    "\n",
    "* Extract [zero-crossing rate](https://librosa.github.io/librosa/generated/librosa.feature.zero_crossing_rate.html) and [spectral centroid](https://librosa.github.io/librosa/generated/librosa.feature.spectral_centroid.html) using librosa package (window length: 2048, hop size: 1024). \n",
    "* Do feature summarization to convert a series of feature vectors into a single feature vector. Use mean and delta-mean."
   ]
  },
  {
   "cell_type": "code",
   "execution_count": null,
   "metadata": {
    "deletable": false,
    "nbgrader": {
     "checksum": "b487eb7cdc402bb80830fdbeb6e04939",
     "grade": false,
     "grade_id": "cell-fb09bb52123dade8",
     "locked": false,
     "schema_version": 1,
     "solution": true
    }
   },
   "outputs": [],
   "source": [
    "def feature_extraction(file_path):\n",
    "    '''\n",
    "    Takes an audio file path, read the audio (keep the original sampling rate), \n",
    "    extract audio features from the audio, and outputs a single feature vector containing\n",
    "    [mean-zero-crossing-rate, mean-delta-zero-crossing-rate, mean-spectral-centroid, mean-delta-spectral-centroid]\n",
    "    \n",
    "    Input Parameters\n",
    "    ----------------\n",
    "    file_path: a string indicating a path to an audio file.\n",
    "    \n",
    "    Returns\n",
    "    ----------------\n",
    "    feature_vector: a 1-D numpy array of an extracted feature vector.\n",
    "    '''\n",
    "    win_len = 2048\n",
    "    hop_len = 1024\n",
    "    file_wav, wav_sr = librosa.load(file_path) # load in audio and sampling rate\n",
    "    \n",
    "    zero_crossing_rate = librosa.feature.zero_crossing_rate(y=file_wav, frame_length=win_len, hop_length=hop_len)\n",
    "    spectral_centroid = librosa.feature.spectral_centroid(y=file_wav, sr=wav_sr, n_fft=win_len, hop_length=hop_len)\n",
    "\n",
    "    # feature summarizing\n",
    "        # [mean-zero-crossing-rate, mean-delta-zero-crossing-rate, \n",
    "        # mean-spectral-centroid, mean-delta-spectral-centroid]\n",
    "    \n",
    "    # mean\n",
    "    mean_zcr = np.mean(zero_crossing_rate)\n",
    "    mean_sc = np.mean(spectral_centroid)\n",
    "    \n",
    "    # delta_mean\n",
    "    mean_delta_zcr = np.mean(np.diff(zero_crossing_rate))\n",
    "    mean_delta_sc = np.mean(np.diff(spectral_centroid))\n",
    "    \n",
    "    feature_vector = np.array([mean_zcr, mean_delta_zcr, mean_sc, mean_delta_sc])\n",
    "\n",
    "    return feature_vector"
   ]
  },
  {
   "cell_type": "code",
   "execution_count": null,
   "metadata": {
    "deletable": false,
    "editable": false,
    "nbgrader": {
     "checksum": "ad9b18cbf03ad56bab53fcb4fb982bf4",
     "grade": true,
     "grade_id": "cell-66ad6bd1b8a1d929",
     "locked": true,
     "points": 2,
     "schema_version": 1,
     "solution": false
    }
   },
   "outputs": [],
   "source": [
    "# you don't need to put anything here, this cell is for the autograder"
   ]
  },
  {
   "cell_type": "markdown",
   "metadata": {
    "deletable": false,
    "editable": false,
    "nbgrader": {
     "checksum": "7f452255dde7e6077987a22ad0c222b3",
     "grade": false,
     "grade_id": "cell-8361a15f4c733c25",
     "locked": true,
     "schema_version": 1,
     "solution": false
    }
   },
   "source": [
    "#### 12. (1 point) Implement following two functions: 1) a function constructing feature vectors from all the training and testing data and encoding labels of them and 2) a function recaling the feature vectors.\n",
    "   * To collect file names of all the data you need, you can use the provided function *collect_filenames*.\n",
    "   * For feature extraction, use *feature_extraction* function you built from the previous question.\n",
    "   * The labels should be encoded as an integer value: (Sneezing:0, snoring:1) \n",
    "   * Rescale each feature to a range (0, 1) using [sklearn.preprocessing.MinMaxScaler](https://scikit-learn.org/stable/modules/generated/sklearn.preprocessing.MinMaxScaler.html).  \n",
    "   * The scaling factor should be learned from the **entire training set** including both sneezing and snoring class\n",
    "   * The scaling factor should **NOT** be learned from the **testing set** because we should assume that your classifer never have access to testing data before it is tested. Therefore, you first learn scaling factor from trianing set only and apply the learned scaler to both training and testing data."
   ]
  },
  {
   "cell_type": "code",
   "execution_count": null,
   "metadata": {
    "deletable": false,
    "editable": false,
    "nbgrader": {
     "checksum": "39f47e781c7456c60494626939070658",
     "grade": false,
     "grade_id": "cell-46cf6da2521ae86b",
     "locked": true,
     "schema_version": 1,
     "solution": false
    }
   },
   "outputs": [],
   "source": [
    "def collect_filenames(path_to_esc50_csv):\n",
    "    \n",
    "    '''\n",
    "    Collect file names for training and testing set from `./dataset/meta/esc50.csv`. \n",
    "\n",
    "    Input Parameters\n",
    "    ----------------\n",
    "    path_to_esc50_csv: a string indicating a path to esc50.csv in ESC50 dataset.\n",
    "    \n",
    "    \n",
    "    Returns\n",
    "    ----------------\n",
    "    train_filenames: a dictionary containing file names of training set. \n",
    "                    Its keys are each class name: 'sneezing', 'snoring' \n",
    "    test_filenames: a dictionary containing file names of testing set. \n",
    "                    Its keys are each class name: 'sneezing', 'snoring' \n",
    "    '''\n",
    "    train_filenames = {'sneezing':[], 'snoring':[]}\n",
    "    test_filenames = {'sneezing':[], 'snoring':[]}\n",
    "    \n",
    "    with open(path_to_esc50_csv) as csvfile:\n",
    "        reader = csv.DictReader(csvfile)\n",
    "        for row in reader:\n",
    "            if row['category'] == 'sneezing':\n",
    "                if int(row['fold']) in [1, 2, 3]:\n",
    "                    train_filenames['sneezing'].append(row['filename'])\n",
    "                else:\n",
    "                    test_filenames['sneezing'].append(row['filename'])\n",
    "            if row['category'] == 'snoring':\n",
    "                if int(row['fold']) in [1, 2, 3]:\n",
    "                    train_filenames['snoring'].append(row['filename'])\n",
    "                else:\n",
    "                    test_filenames['snoring'].append(row['filename'])\n",
    "    \n",
    "    return train_filenames, test_filenames"
   ]
  },
  {
   "cell_type": "code",
   "execution_count": null,
   "metadata": {
    "deletable": false,
    "nbgrader": {
     "checksum": "0c9aeef69960e076aaece2b92c637a93",
     "grade": true,
     "grade_id": "cell-01853877278942d4",
     "locked": false,
     "points": 1,
     "schema_version": 1,
     "solution": true
    }
   },
   "outputs": [],
   "source": [
    "def data_preperation():\n",
    "    \n",
    "    '''\n",
    "    construct feature vectors from all the training and testing data and encoding labels of them\n",
    "    \n",
    "    Returns\n",
    "    ----------------\n",
    "    train_X: a 2-D numpy array with a shape of (the number of training examples, the number of features).\n",
    "    train_Y: a 1-D numpy array containing integer labels for training examples.\n",
    "            Encode \"sneezing\" to 0 and \"snoring\" to 1.\n",
    "    \n",
    "    test_X: a 2-D numpy array with a shape of (the number of testing examples, the number of features).\n",
    "    test_Y: a 1-D numpy array containing integer labels for tesing examples.\n",
    "            Encode \"sneezing\" to 0 and \"snoring\" to 1.\n",
    "    '''\n",
    "\n",
    "    train_filenames, test_filenames = collect_filenames('./dataset/meta/esc50.csv')\n",
    "    \n",
    "    train_num = 48\n",
    "    test_num = 32\n",
    "    feature_vec_len = 4\n",
    "    train_X = np.zeros(shape=(train_num, feature_vec_len))\n",
    "    train_Y = np.zeros(shape=(train_num,))\n",
    "    test_X = np.zeros(shape=(test_num, feature_vec_len))\n",
    "    test_Y = np.zeros(shape=(test_num,))\n",
    "    \n",
    "    \n",
    "    for train_label in train_filenames.keys():\n",
    "#         print(train_filenames[train_label])\n",
    "        if train_label == 'snoring':\n",
    "            add = 24\n",
    "        else:\n",
    "            add = 0\n",
    "        for i in range(len(train_filenames[train_label])): # file_train in train_filenames[train_label]: # for each filename\n",
    "            file_train = train_filenames[train_label][i] # file name\n",
    "            file_train = 'dataset/audio/' + file_train # add path\n",
    "            feature_vec = feature_extraction(file_train) # grab feature vector\n",
    "#             print(i+add, train_label, feature_vec)\n",
    "            train_X[i+add] = feature_vec #np.append(train_X, feature_vec, axis=0) # add to train vector\n",
    "            if train_label == 'snoring':\n",
    "                train_Y[i+add] = 1\n",
    "\n",
    "    for test_label in test_filenames.keys():\n",
    "        if test_label == 'snoring':\n",
    "            add = 16\n",
    "        else:\n",
    "            add = 0\n",
    "        for i in range(len(test_filenames[test_label])): #file_test in test_filenames[test_label]:\n",
    "            file_test = test_filenames[test_label][i] # file name\n",
    "            file_test = 'dataset/audio/' + file_test\n",
    "            feature_vec = feature_extraction(file_test)\n",
    "#             print(i+add, test_label, feature_vec)\n",
    "            test_X[i+add] = feature_vec # = np.append(test_X, feature_vec, axis=0)\n",
    "            if test_label == 'snoring':\n",
    "                test_Y[i+add] = 1\n",
    "                \n",
    "        \n",
    "    return train_X, train_Y, test_X, test_Y\n",
    "\n",
    "def feature_rescaling(train_X, test_X):\n",
    "    \n",
    "    '''\n",
    "\n",
    "    Input Parameters\n",
    "    ----------------\n",
    "    train_X: a 2-D numpy array with a shape of (the number of training examples, the number of features).\n",
    "    test_X: a 2-D numpy array with a shape of (the number of testing examples, the number of features).\n",
    "    \n",
    "    Returns\n",
    "    ----------------\n",
    "    train_rescaled_X: the rescaled version of train_X\n",
    "                    a 2-D numpy array with a shape of (the number of training examples, the number of features).\n",
    "    test_rescaled_X : the rescaled version of test_X\n",
    "                    a 2-D numpy array with a shape of (the number of testing examples, the number of features).\n",
    "    \n",
    "    '''\n",
    "    \n",
    "    scaler = sklearn.preprocessing.MinMaxScaler()\n",
    "#     scaler.fit(train_X) # fit on just tran_X\n",
    "    train_rescaled_X = scaler.fit_transform(train_X)\n",
    "    test_rescaled_X = scaler.transform(test_X) \n",
    "    \n",
    "#     raise NotImplementedError # delete this line when you add your solution\n",
    "    \n",
    "    return train_rescaled_X, test_rescaled_X\n",
    "\n",
    "\n"
   ]
  },
  {
   "cell_type": "markdown",
   "metadata": {
    "deletable": false,
    "editable": false,
    "nbgrader": {
     "checksum": "94294a7c2c62034ca6e2fa4e8aa090d7",
     "grade": false,
     "grade_id": "cell-9e0275c6dbb694e3",
     "locked": true,
     "schema_version": 1,
     "solution": false
    }
   },
   "source": [
    "#### 13. (1 point) Your feature extractor outputs *mean-zero-crossing-rate, mean-delta-zero-crossing-rate, mean-spectral-centroid, mean-delta-spectral-centroid*. If you want to represent the data from the ESC-50 data set in a 2-d scatter plot, you'll need to pick just two of those features. Pick the pair of features that best separates sneezing examples from snoring examples. Plot the data using that pair of features. Be sure to make markers for dots different for different classes and to label the graph so we can tell which dots belong to which class. Label the figure's axes appropriately, so it is obvious which features you chose.\n",
    "\n",
    "* Note: Use the rescaled feature vectors from the previous question."
   ]
  },
  {
   "cell_type": "code",
   "execution_count": null,
   "metadata": {},
   "outputs": [],
   "source": [
    "sneeze_snore_train_X, sneeze_snore_train_Y, sneeze_snore_test_X, sneeze_snore_test_Y = data_preperation()\n",
    "\n",
    "sneeze_snore_train_rescaled_X, sneeze_snore_test_rescaled_X = feature_rescaling(sneeze_snore_train_X, sneeze_snore_test_X)\n"
   ]
  },
  {
   "cell_type": "code",
   "execution_count": null,
   "metadata": {
    "deletable": false,
    "nbgrader": {
     "checksum": "105e7f81acd683c195b1de7619cdea52",
     "grade": true,
     "grade_id": "cell-db068e04d772640c",
     "locked": false,
     "points": 1,
     "schema_version": 1,
     "solution": true
    }
   },
   "outputs": [],
   "source": [
    "col_mean_zcr = sneeze_snore_train_rescaled_X[:,0]\n",
    "col_delta_zcr = sneeze_snore_train_rescaled_X[:,1]\n",
    "col_mean_sc = sneeze_snore_train_rescaled_X[:,2]\n",
    "col_delta_sc = sneeze_snore_train_rescaled_X[:,3]\n",
    "# print(sneeze_snore_train_Y)\n",
    "\n",
    "colors = ['orange', 'green']\n",
    "\n",
    "plt.scatter(col_mean_zcr, col_mean_sc, c=sneeze_snore_train_Y, cmap=matplotlib.colors.ListedColormap(colors), alpha=0.6) \n",
    "legend_elems = [matplotlib.lines.Line2D([0], [0], color='orange', label='sneezing'),\n",
    "                matplotlib.lines.Line2D([0], [0], color='green', label='snoring')]\n",
    "plt.legend(handles=legend_elems)\n",
    "plt.show()"
   ]
  },
  {
   "cell_type": "markdown",
   "metadata": {
    "deletable": false,
    "editable": false,
    "nbgrader": {
     "checksum": "92fa15045e2b4158717c4933c2598332",
     "grade": false,
     "grade_id": "cell-bc2cebf3f1918c56",
     "locked": true,
     "schema_version": 1,
     "solution": false
    }
   },
   "source": [
    "#### 14 (1 point) Test your KNN classifier on the testing examples and report its accuracy and confusion matrix. Use the functions you implemented in previous questions: *data_preperation*, *feature_rescaling*, *knn*,  and *evaluation* . Explain about your results. What do the accuracy and confusion matrix tell about your classifier?\n",
    "* Use all the extracted features (Mean-zcr, Delta-mean-zcr, Mean-sc, Delta-mean-sc)\n",
    "* Use the rescaled version of features from question 12\n",
    "* When running a KNN classifier, set K=1 and use euclidean distance as a distance measure.\n"
   ]
  },
  {
   "cell_type": "code",
   "execution_count": null,
   "metadata": {
    "deletable": false,
    "nbgrader": {
     "checksum": "e38416371a12c660b0db2a361b4bf93a",
     "grade": true,
     "grade_id": "cell-8bf5236b322abcd2",
     "locked": false,
     "points": 0.5,
     "schema_version": 1,
     "solution": true
    }
   },
   "outputs": [],
   "source": [
    "pred_Y = knn(sneeze_snore_train_rescaled_X, sneeze_snore_train_Y, sneeze_snore_test_rescaled_X, 'euclidean', 1)\n",
    "acc, conf = evaluation(pred_Y, sneeze_snore_test_Y, 2)\n",
    "\n",
    "print(\"Accuracy:\", acc)\n",
    "print(\"Confusion Matrix\\n\", conf)"
   ]
  },
  {
   "cell_type": "markdown",
   "metadata": {
    "deletable": false,
    "nbgrader": {
     "checksum": "293c8bf34796a702ea6700a54368ee75",
     "grade": true,
     "grade_id": "cell-afc41edef458d8a5",
     "locked": false,
     "points": 0.5,
     "schema_version": 1,
     "solution": true
    }
   },
   "source": [
    "I got 75% accuracy, average performance. The confusion matrix tells us that the classifier (and chosen features) is slightly more likely to misclassify a snoring sample than a sneezing sample. "
   ]
  },
  {
   "cell_type": "markdown",
   "metadata": {
    "deletable": false,
    "editable": false,
    "nbgrader": {
     "checksum": "7e0fe027f695cd61b7cd6ffd226bb255",
     "grade": false,
     "grade_id": "cell-638ae83eb574dd66",
     "locked": true,
     "schema_version": 1,
     "solution": false
    }
   },
   "source": [
    "#### 15 (2 point) Now test your KNN classifier  with different values of K (1 to 5) and different distance measures (Euclidean and cosine) to find the setting which maximizes accuracy. Include a figure showing how accuracy changes with different combinations of K and distance measrure. The figure should include results from the 10 combinations (5 different values of K, 2 different distance metrics)."
   ]
  },
  {
   "cell_type": "code",
   "execution_count": null,
   "metadata": {
    "deletable": false,
    "nbgrader": {
     "checksum": "0a112a8f40a7ccb592f8a0da14a252f1",
     "grade": true,
     "grade_id": "cell-7e8c0443b32b6db6",
     "locked": false,
     "points": 2,
     "schema_version": 1,
     "solution": true
    }
   },
   "outputs": [],
   "source": [
    "accuracy_over_time_eu = []\n",
    "accuracy_over_time_cos = []\n",
    "k_range = [1,2,3,4,5]\n",
    "\n",
    "for k in k_range:\n",
    "    pred_Y = knn(sneeze_snore_train_rescaled_X, sneeze_snore_train_Y, sneeze_snore_test_rescaled_X, 'euclidean', k)\n",
    "    acc, conf = evaluation(pred_Y, sneeze_snore_test_Y, 2)\n",
    "    accuracy_over_time_eu.append(acc)\n",
    "    print('euclidean', ', k =', k)\n",
    "    print(\"Accuracy:\", acc)\n",
    "    print(\"Confusion Matrix\\n\", conf, '\\n')\n",
    "\n",
    "for k in k_range:\n",
    "    pred_Y = knn(sneeze_snore_train_rescaled_X, sneeze_snore_train_Y, sneeze_snore_test_rescaled_X, 'cosine', k)\n",
    "    acc, conf = evaluation(pred_Y, sneeze_snore_test_Y, 2)\n",
    "    accuracy_over_time_cos.append(acc)\n",
    "    print('cosine', ', k =', k)\n",
    "    print(\"Accuracy:\", acc)\n",
    "    print(\"Confusion Matrix\\n\", conf, '\\n')\n",
    "\n",
    "plt.xlabel(\"K Neighbors\")\n",
    "plt.ylabel(\"Accuracy\")\n",
    "plt.xticks(k_range)\n",
    "plt.plot(k_range, accuracy_over_time_eu)\n",
    "plt.plot(k_range, accuracy_over_time_cos)\n",
    "legend_elems = [matplotlib.lines.Line2D([0], [0], color='blue', label='euclidean'),\n",
    "                matplotlib.lines.Line2D([0], [0], color='orange', label='cosine')]\n",
    "plt.legend(handles=legend_elems)\n",
    "plt.show()\n",
    "\n",
    "# raise NotImplementedError # delete this line when you add your solution"
   ]
  },
  {
   "cell_type": "markdown",
   "metadata": {
    "deletable": false,
    "editable": false,
    "nbgrader": {
     "checksum": "59d34009d21e8fab00169c8c1c951d83",
     "grade": false,
     "grade_id": "cell-c3192170a15bb292",
     "locked": true,
     "schema_version": 1,
     "solution": false
    }
   },
   "source": [
    "#### 16 (2 point) Try other features provided in Librosa to improve your classifier. Implement a new feature extraction function that extracts those features. You can use new features, in addition to of zero-crossing-rate and spectral centroid or just replace them with new ones. What features improved classification the accuracy? Report classification accuracy of the new classifier on the testing set. How much do the new features improve the performance?"
   ]
  },
  {
   "cell_type": "code",
   "execution_count": 42,
   "metadata": {
    "deletable": false,
    "nbgrader": {
     "checksum": "d3c3868d7ef006b7474de2b71bdb5ba3",
     "grade": true,
     "grade_id": "cell-c77e1c7f3f87f9c9",
     "locked": false,
     "points": 1,
     "schema_version": 1,
     "solution": true
    }
   },
   "outputs": [],
   "source": [
    "def feature_extraction_better(file_path, feature_type):\n",
    "    '''\n",
    "    Takes an audio file path, read the audio (keep the original sampling rate), \n",
    "    extract audio features from the audio, and outputs a single feature vector containing\n",
    "    [mean-zero-crossing-rate, mean-delta-zero-crossing-rate, mean-spectral-centroid, mean-delta-spectral-centroid]\n",
    "    \n",
    "    Input Parameters\n",
    "    ----------------\n",
    "    file_path: a string indicating a path to an audio file.\n",
    "    \n",
    "    Returns\n",
    "    ----------------\n",
    "    feature_vector: a 1-D numpy array of an extracted feature vector.\n",
    "    '''\n",
    "    win_len = 2048\n",
    "    hop_len = 1024\n",
    "    file_wav, wav_sr = librosa.load(file_path) # load in audio and sampling rate\n",
    "    \n",
    "    #### calc features\n",
    "    ## 1D\n",
    "    if feature_type == 'spectral':\n",
    "        # spectral bandwidth\n",
    "        spectral_bandwidth = librosa.feature.spectral_bandwidth(y=file_wav, sr=wav_sr, n_fft=win_len, hop_length=hop_len) # (1,108)\n",
    "        mean_sb = np.mean(spectral_bandwidth)\n",
    "        \n",
    "        # spectral flatness\n",
    "        spectral_flatness = librosa.feature.spectral_flatness(y=file_wav, n_fft=win_len, hop_length=hop_len) # (1,108)\n",
    "        mean_sf = np.mean(spectral_flatness)\n",
    "        \n",
    "        delta_mean_sb = np.mean(np.diff(spectral_bandwidth))\n",
    "        delta_mean_sf = np.mean(np.diff(spectral_flatness))\n",
    "        \n",
    "        feature_vector = np.array([mean_sb, delta_mean_sb, mean_sf, delta_mean_sf])\n",
    "       \n",
    "     \n",
    "    ## 2D\n",
    "        # chroma_stft - needs to eventually find it's way to a single scalar number\n",
    "    if feature_type == 'chroma':\n",
    "        chroma = librosa.feature.chroma_stft(y=file_wav, sr=wav_sr, n_fft=win_len, hop_length=hop_len)\n",
    "        mean_per_row = np.mean(chroma, axis=1)\n",
    "        var_per_row = np.var(chroma, axis=1)\n",
    "        delta = np.diff(chroma) # 2D ===> (12, wdt-1)\n",
    "        mean_delta = np.mean(delta, axis=1)\n",
    "        var_delta = np.var(delta, axis=1)\n",
    "        feature_vector = np.hstack((mean_per_row, var_per_row, mean_delta, var_delta))\n",
    "        \n",
    "    if feature_type is 'tonnetz':\n",
    "        tonnetz = librosa.feature.tonnetz(y=file_wav, sr=wav_sr)\n",
    "        mean_per_row = np.mean(tonnetz, axis=1)\n",
    "        var_per_row = np.var(tonnetz, axis=1)\n",
    "        delta = np.diff(tonnetz) # 2D ===> (12, wdt-1)\n",
    "        mean_delta = np.mean(delta, axis=1)\n",
    "        var_delta = np.var(delta, axis=1)\n",
    "        feature_vector = np.hstack((mean_per_row, var_per_row, mean_delta, var_delta))\n",
    "    \n",
    "    if feature_type == 'all': # mix every feature\n",
    "        # spectral bandwidth\n",
    "        spectral_bandwidth = librosa.feature.spectral_bandwidth(y=file_wav, sr=wav_sr, n_fft=win_len, hop_length=hop_len) # (1,108)\n",
    "        mean_sb = np.mean(spectral_bandwidth)\n",
    "        \n",
    "        # spectral flatness\n",
    "        spectral_flatness = librosa.feature.spectral_flatness(y=file_wav, n_fft=win_len, hop_length=hop_len) # (1,108)\n",
    "        mean_sf = np.mean(spectral_flatness)\n",
    "        \n",
    "        delta_mean_sb = np.mean(np.diff(spectral_bandwidth))\n",
    "        delta_mean_sf = np.mean(np.diff(spectral_flatness))\n",
    "        \n",
    "        # chroma\n",
    "        chroma = librosa.feature.chroma_stft(y=file_wav, sr=wav_sr, n_fft=win_len, hop_length=hop_len)\n",
    "        chroma_mean_per_row = np.mean(chroma, axis=1)\n",
    "        chroma_var_per_row = np.var(chroma, axis=1)\n",
    "        chroma_delta = np.diff(chroma) # 2D ===> (12, wdt-1)\n",
    "        chroma_mean_delta = np.mean(chroma_delta, axis=1)\n",
    "        chroma_var_delta = np.var(chroma_delta, axis=1)\n",
    "        \n",
    "        # tonnetz\n",
    "        tonnetz = librosa.feature.tonnetz(y=file_wav, sr=wav_sr)\n",
    "        tonnetz_mean_per_row = np.mean(tonnetz, axis=1)\n",
    "        tonnetz_var_per_row = np.var(tonnetz, axis=1)\n",
    "        tonnetz_delta = np.diff(tonnetz) # 2D ===> (12, wdt-1)\n",
    "        tonnetz_mean_delta = np.mean(tonnetz_delta, axis=1)\n",
    "        tonnetz_var_delta = np.var(tonnetz_delta, axis=1)\n",
    "        \n",
    "        # original features\n",
    "        zero_crossing_rate = librosa.feature.zero_crossing_rate(y=file_wav, frame_length=win_len, hop_length=hop_len)\n",
    "        spectral_centroid = librosa.feature.spectral_centroid(y=file_wav, sr=wav_sr, n_fft=win_len, hop_length=hop_len)\n",
    "        \n",
    "        mean_zcr = np.mean(zero_crossing_rate)\n",
    "        mean_sc = np.mean(spectral_centroid)\n",
    "\n",
    "        mean_delta_zcr = np.mean(np.diff(zero_crossing_rate))\n",
    "        mean_delta_sc = np.mean(np.diff(spectral_centroid))\n",
    "\n",
    "        \n",
    "        og_features = np.array([mean_zcr, mean_delta_zcr, mean_sc, mean_delta_sc])\n",
    "        spectra_features = np.array([mean_sb, delta_mean_sb, mean_sf, delta_mean_sf])\n",
    "        feature_vector = np.hstack((og_features, spectra_features, chroma_mean_per_row, chroma_var_per_row, \n",
    "                                    chroma_mean_delta, chroma_var_delta, tonnetz_mean_per_row, tonnetz_var_per_row,\n",
    "                                    tonnetz_mean_delta, tonnetz_var_delta))\n",
    "#         feature_vector = np.hstack((chroma_mean_per_row, chroma_var_per_row, chroma_mean_delta, chroma_var_delta))\n",
    "#         feature_vector = np.hstack((tonnetz_mean_per_row, tonnetz_var_per_row, tonnetz_mean_delta, tonnetz_var_delta))\n",
    "        \n",
    "        \n",
    "#         print(feature_vector.shape)\n",
    "    \n",
    "    \n",
    "    ### feature summarizing\n",
    "    \n",
    "    # chroma summarization\n",
    "        # done above\n",
    "    \n",
    "    \n",
    "\n",
    "#     feature_vector = np.hstack((mean_per_row, var_per_row, mean_delta, var_delta))\n",
    "\n",
    "    return feature_vector\n",
    "\n",
    "\n",
    "# raise NotImplementedError # delete this line when you add your solution"
   ]
  },
  {
   "cell_type": "code",
   "execution_count": 41,
   "metadata": {},
   "outputs": [
    {
     "data": {
      "text/plain": [
       "array([ 3.07255498e-02,  1.14084404e-04,  1.33447319e+03,  3.23973123e+00,\n",
       "        2.09955126e+03,  2.79282310e+00,  7.38815358e-03,  2.26547218e-06,\n",
       "        6.34427092e-01,  6.38576679e-01,  6.85394188e-01,  7.54167366e-01,\n",
       "        8.18657090e-01,  8.33931890e-01,  7.51817198e-01,  6.59393399e-01,\n",
       "        6.01604157e-01,  5.87910617e-01,  5.77929790e-01,  5.86634166e-01,\n",
       "        9.85306577e-02,  9.23215233e-02,  7.91973440e-02,  5.59961165e-02,\n",
       "        3.69426711e-02,  4.31886664e-02,  5.35607073e-02,  6.73128934e-02,\n",
       "        7.11346234e-02,  8.23951127e-02,  8.21229151e-02,  8.43012937e-02,\n",
       "        5.74873253e-03,  6.96730040e-03,  8.19169224e-03,  5.17714253e-03,\n",
       "       -1.89261433e-03, -1.05922848e-03,  1.39956639e-03,  1.11170796e-03,\n",
       "        1.84988647e-03,  3.97903782e-03,  4.67892190e-03,  4.90844776e-03,\n",
       "        7.10954432e-02,  7.37728126e-02,  7.23330450e-02,  5.05174384e-02,\n",
       "        4.77281932e-02,  6.56591260e-02,  5.23738154e-02,  4.56622616e-02,\n",
       "        3.89063289e-02,  4.83967718e-02,  4.22003307e-02,  5.45271660e-02,\n",
       "       -1.37573305e-02,  4.32968147e-02, -3.20584174e-02,  6.14468279e-02,\n",
       "        1.91613052e-02,  2.51310300e-02,  1.56990072e-03,  2.48448818e-03,\n",
       "        6.93535452e-03,  8.29022469e-03,  6.58394301e-04,  1.61610983e-03,\n",
       "        1.72408964e-04,  4.24151913e-04,  2.49941910e-04, -1.76550811e-04,\n",
       "       -5.18390952e-05,  1.35769715e-04,  5.81011556e-04,  5.36088143e-04,\n",
       "        1.36515974e-03,  1.97653536e-03,  2.46269696e-04,  2.65690951e-04])"
      ]
     },
     "execution_count": 41,
     "metadata": {},
     "output_type": "execute_result"
    }
   ],
   "source": [
    "path = \"dataset/audio/1-20545-A-28.wav\"\n",
    "feature_extraction_better(path, 'all')"
   ]
  },
  {
   "cell_type": "code",
   "execution_count": null,
   "metadata": {},
   "outputs": [],
   "source": [
    "def data_preperation_better(feature_vec_len, feature_type):\n",
    "    \n",
    "    '''\n",
    "    construct feature vectors from all the training and testing data and encoding labels of them\n",
    "    \n",
    "    Returns\n",
    "    ----------------\n",
    "    train_X: a 2-D numpy array with a shape of (the number of training examples, the number of features).\n",
    "    train_Y: a 1-D numpy array containing integer labels for training examples.\n",
    "            Encode \"sneezing\" to 0 and \"snoring\" to 1.\n",
    "    \n",
    "    test_X: a 2-D numpy array with a shape of (the number of testing examples, the number of features).\n",
    "    test_Y: a 1-D numpy array containing integer labels for tesing examples.\n",
    "            Encode \"sneezing\" to 0 and \"snoring\" to 1.\n",
    "    '''\n",
    "\n",
    "    train_filenames, test_filenames = collect_filenames('./dataset/meta/esc50.csv')\n",
    "    \n",
    "    train_num = 48\n",
    "    test_num = 32\n",
    "#     feature_vec_len = 48\n",
    "    train_X = np.zeros(shape=(train_num, feature_vec_len))\n",
    "    train_Y = np.zeros(shape=(train_num,))\n",
    "    test_X = np.zeros(shape=(test_num, feature_vec_len))\n",
    "    test_Y = np.zeros(shape=(test_num,))\n",
    "    \n",
    "    \n",
    "    for train_label in train_filenames.keys():\n",
    "#         print(train_filenames[train_label])\n",
    "        if train_label == 'snoring':\n",
    "            add = 24\n",
    "        else:\n",
    "            add = 0\n",
    "        for i in range(len(train_filenames[train_label])): # file_train in train_filenames[train_label]: # for each filename\n",
    "            file_train = train_filenames[train_label][i] # file name\n",
    "            file_train = 'dataset/audio/' + file_train # add path\n",
    "            feature_vec = feature_extraction_better(file_train, feature_type) # grab feature vector\n",
    "#             print(i+add, train_label, feature_vec)\n",
    "            train_X[i+add] = feature_vec #np.append(train_X, feature_vec, axis=0) # add to train vector\n",
    "            if train_label == 'snoring':\n",
    "                train_Y[i+add] = 1\n",
    "\n",
    "    for test_label in test_filenames.keys():\n",
    "        if test_label == 'snoring':\n",
    "            add = 16\n",
    "        else:\n",
    "            add = 0\n",
    "        for i in range(len(test_filenames[test_label])): #file_test in test_filenames[test_label]:\n",
    "            file_test = test_filenames[test_label][i] # file name\n",
    "            file_test = 'dataset/audio/' + file_test\n",
    "            feature_vec = feature_extraction_better(file_test, feature_type)\n",
    "#             print(i+add, test_label, feature_vec)\n",
    "            test_X[i+add] = feature_vec # = np.append(test_X, feature_vec, axis=0)\n",
    "            if test_label == 'snoring':\n",
    "                test_Y[i+add] = 1\n",
    "                \n",
    "#     print(test_X.shape, test_Y.shape)\n",
    "        \n",
    "    return train_X, train_Y, test_X, test_Y\n"
   ]
  },
  {
   "cell_type": "code",
   "execution_count": null,
   "metadata": {},
   "outputs": [],
   "source": [
    "sneeze_snore_train_X, sneeze_snore_train_Y, sneeze_snore_test_X, sneeze_snore_test_Y = data_preperation_better(4, 'spectral')\n",
    "\n",
    "sneeze_snore_train_rescaled_X, sneeze_snore_test_rescaled_X = feature_rescaling(sneeze_snore_train_X, sneeze_snore_test_X)"
   ]
  },
  {
   "cell_type": "code",
   "execution_count": 39,
   "metadata": {},
   "outputs": [
    {
     "name": "stdout",
     "output_type": "stream",
     "text": [
      "Features: Mean/delta mean of spectral flatness and bandwidth\n",
      "Results: These features led to on result (euclidean, k = 1) with a higher max accuracy than the original features.\n",
      "However, the confusion matrix shows that this mix is actually worse at correctly classifying sneezing\n",
      "than the best result with the original features: cosine, k=2.\n",
      "It also seems that the euclidean and cosine curves followed the same pattern of accuracy. Just an interesting note.\n",
      "\n",
      "euclidean , k = 1\n",
      "Accuracy: 0.84375\n",
      "Confusion Matrix\n",
      " [[11.  5.]\n",
      " [ 0. 16.]] \n",
      "\n",
      "euclidean , k = 2\n",
      "Accuracy: 0.8125\n",
      "Confusion Matrix\n",
      " [[12.  4.]\n",
      " [ 2. 14.]] \n",
      "\n",
      "euclidean , k = 3\n",
      "Accuracy: 0.875\n",
      "Confusion Matrix\n",
      " [[12.  4.]\n",
      " [ 0. 16.]] \n",
      "\n",
      "euclidean , k = 4\n",
      "Accuracy: 0.8125\n",
      "Confusion Matrix\n",
      " [[12.  4.]\n",
      " [ 2. 14.]] \n",
      "\n",
      "euclidean , k = 5\n",
      "Accuracy: 0.8125\n",
      "Confusion Matrix\n",
      " [[10.  6.]\n",
      " [ 0. 16.]] \n",
      "\n",
      "cosine , k = 1\n",
      "Accuracy: 0.75\n",
      "Confusion Matrix\n",
      " [[10.  6.]\n",
      " [ 2. 14.]] \n",
      "\n",
      "cosine , k = 2\n",
      "Accuracy: 0.78125\n",
      "Confusion Matrix\n",
      " [[12.  4.]\n",
      " [ 3. 13.]] \n",
      "\n",
      "cosine , k = 3\n",
      "Accuracy: 0.8125\n",
      "Confusion Matrix\n",
      " [[11.  5.]\n",
      " [ 1. 15.]] \n",
      "\n",
      "cosine , k = 4\n",
      "Accuracy: 0.8125\n",
      "Confusion Matrix\n",
      " [[12.  4.]\n",
      " [ 2. 14.]] \n",
      "\n",
      "cosine , k = 5\n",
      "Accuracy: 0.8125\n",
      "Confusion Matrix\n",
      " [[11.  5.]\n",
      " [ 1. 15.]] \n",
      "\n"
     ]
    },
    {
     "data": {
      "image/png": "[encoded data removed]",
      "text/plain": [
       "<Figure size 432x288 with 1 Axes>"
      ]
     },
     "metadata": {},
     "output_type": "display_data"
    }
   ],
   "source": [
    "print(\"Features: Mean/delta mean of spectral flatness and bandwidth\")\n",
    "print(\"Results: These features led to on result (euclidean, k = 1) with a higher max accuracy than the original features.\\nHowever, the confusion matrix shows that this mix is actually worse at correctly classifying sneezing\\nthan the best result with the original features: cosine, k=2.\")\n",
    "print(\"It also seems that the euclidean and cosine curves followed the same pattern of accuracy. Just an interesting note.\\n\")\n",
    "accuracy_over_time_eu = []\n",
    "accuracy_over_time_cos = []\n",
    "k_range = [1,2,3,4,5]\n",
    "\n",
    "for k in k_range:\n",
    "    pred_Y = knn(sneeze_snore_train_rescaled_X, sneeze_snore_train_Y, sneeze_snore_test_rescaled_X, 'euclidean', k)\n",
    "    acc, conf = evaluation(pred_Y, sneeze_snore_test_Y, 2)\n",
    "    accuracy_over_time_eu.append(acc)\n",
    "    print('euclidean', ', k =', k)\n",
    "    print(\"Accuracy:\", acc)\n",
    "    print(\"Confusion Matrix\\n\", conf, '\\n')\n",
    "\n",
    "for k in k_range:\n",
    "    pred_Y = knn(sneeze_snore_train_rescaled_X, sneeze_snore_train_Y, sneeze_snore_test_rescaled_X, 'cosine', k)\n",
    "    acc, conf = evaluation(pred_Y, sneeze_snore_test_Y, 2)\n",
    "    accuracy_over_time_cos.append(acc)\n",
    "    print('cosine', ', k =', k)\n",
    "    print(\"Accuracy:\", acc)\n",
    "    print(\"Confusion Matrix\\n\", conf, '\\n')\n",
    "\n",
    "plt.xlabel(\"K Neighbors\")\n",
    "plt.ylabel(\"Accuracy\")\n",
    "plt.xticks(k_range)\n",
    "plt.plot(k_range, accuracy_over_time_eu)\n",
    "plt.plot(k_range, accuracy_over_time_cos)\n",
    "legend_elems = [matplotlib.lines.Line2D([0], [0], color='blue', label='euclidean'),\n",
    "                matplotlib.lines.Line2D([0], [0], color='orange', label='cosine')]\n",
    "plt.legend(handles=legend_elems)\n",
    "plt.show()\n",
    "\n",
    "# raise NotImplementedError # delete this line when you add your solution\n"
   ]
  },
  {
   "cell_type": "code",
   "execution_count": null,
   "metadata": {},
   "outputs": [],
   "source": [
    "sneeze_snore_train_X, sneeze_snore_train_Y, sneeze_snore_test_X, sneeze_snore_test_Y = data_preperation_better(48, 'chroma')\n",
    "\n",
    "sneeze_snore_train_rescaled_X, sneeze_snore_test_rescaled_X = feature_rescaling(sneeze_snore_train_X, sneeze_snore_test_X)"
   ]
  },
  {
   "cell_type": "code",
   "execution_count": null,
   "metadata": {},
   "outputs": [],
   "source": [
    "accuracy_over_time_eu = []\n",
    "accuracy_over_time_cos = []\n",
    "k_range = [1,2,3,4,5]\n",
    "\n",
    "for k in k_range:\n",
    "    pred_Y = knn(sneeze_snore_train_rescaled_X, sneeze_snore_train_Y, sneeze_snore_test_rescaled_X, 'euclidean', k)\n",
    "    acc, conf = evaluation(pred_Y, sneeze_snore_test_Y, 2)\n",
    "    accuracy_over_time_eu.append(acc)\n",
    "    print('euclidean', ', k =', k)\n",
    "    print(\"Accuracy:\", acc)\n",
    "    print(\"Confusion Matrix\\n\", conf, '\\n')\n",
    "\n",
    "for k in k_range:\n",
    "    pred_Y = knn(sneeze_snore_train_rescaled_X, sneeze_snore_train_Y, sneeze_snore_test_rescaled_X, 'cosine', k)\n",
    "    acc, conf = evaluation(pred_Y, sneeze_snore_test_Y, 2)\n",
    "    accuracy_over_time_cos.append(acc)\n",
    "    print('cosine', ', k =', k)\n",
    "    print(\"Accuracy:\", acc)\n",
    "    print(\"Confusion Matrix\\n\", conf, '\\n')\n",
    "\n",
    "plt.xlabel(\"K Neighbors\")\n",
    "plt.ylabel(\"Accuracy\")\n",
    "plt.xticks(k_range)\n",
    "plt.plot(k_range, accuracy_over_time_eu)\n",
    "plt.plot(k_range, accuracy_over_time_cos)\n",
    "legend_elems = [matplotlib.lines.Line2D([0], [0], color='blue', label='euclidean'),\n",
    "                matplotlib.lines.Line2D([0], [0], color='orange', label='cosine')]\n",
    "plt.legend(handles=legend_elems)\n",
    "plt.show()\n",
    "\n",
    "# raise NotImplementedError # delete this line when you add your solution"
   ]
  },
  {
   "cell_type": "code",
   "execution_count": null,
   "metadata": {},
   "outputs": [],
   "source": [
    "sneeze_snore_train_X, sneeze_snore_train_Y, sneeze_snore_test_X, sneeze_snore_test_Y = data_preperation_better(24, 'tonnetz')\n",
    "\n",
    "sneeze_snore_train_rescaled_X, sneeze_snore_test_rescaled_X = feature_rescaling(sneeze_snore_train_X, sneeze_snore_test_X)"
   ]
  },
  {
   "cell_type": "code",
   "execution_count": null,
   "metadata": {},
   "outputs": [],
   "source": [
    "accuracy_over_time_eu = []\n",
    "accuracy_over_time_cos = []\n",
    "k_range = [1,2,3,4,5]\n",
    "\n",
    "for k in k_range:\n",
    "    pred_Y = knn(sneeze_snore_train_rescaled_X, sneeze_snore_train_Y, sneeze_snore_test_rescaled_X, 'euclidean', k)\n",
    "    acc, conf = evaluation(pred_Y, sneeze_snore_test_Y, 2)\n",
    "    accuracy_over_time_eu.append(acc)\n",
    "    print('euclidean', ', k =', k)\n",
    "    print(\"Accuracy:\", acc)\n",
    "    print(\"Confusion Matrix\\n\", conf, '\\n')\n",
    "\n",
    "for k in k_range:\n",
    "    pred_Y = knn(sneeze_snore_train_rescaled_X, sneeze_snore_train_Y, sneeze_snore_test_rescaled_X, 'cosine', k)\n",
    "    acc, conf = evaluation(pred_Y, sneeze_snore_test_Y, 2)\n",
    "    accuracy_over_time_cos.append(acc)\n",
    "    print('cosine', ', k =', k)\n",
    "    print(\"Accuracy:\", acc)\n",
    "    print(\"Confusion Matrix\\n\", conf, '\\n')\n",
    "\n",
    "plt.xlabel(\"K Neighbors\")\n",
    "plt.ylabel(\"Accuracy\")\n",
    "plt.xticks(k_range)\n",
    "plt.plot(k_range, accuracy_over_time_eu)\n",
    "plt.plot(k_range, accuracy_over_time_cos)\n",
    "legend_elems = [matplotlib.lines.Line2D([0], [0], color='blue', label='euclidean'),\n",
    "                matplotlib.lines.Line2D([0], [0], color='orange', label='cosine')]\n",
    "plt.legend(handles=legend_elems)\n",
    "plt.show()\n",
    "\n",
    "# raise NotImplementedError # delete this line when you add your solution"
   ]
  },
  {
   "cell_type": "code",
   "execution_count": 43,
   "metadata": {},
   "outputs": [],
   "source": [
    "sneeze_snore_train_X, sneeze_snore_train_Y, sneeze_snore_test_X, sneeze_snore_test_Y = data_preperation_better(80, 'all')\n",
    "\n",
    "sneeze_snore_train_rescaled_X, sneeze_snore_test_rescaled_X = feature_rescaling(sneeze_snore_train_X, sneeze_snore_test_X)"
   ]
  },
  {
   "cell_type": "code",
   "execution_count": 44,
   "metadata": {},
   "outputs": [
    {
     "name": "stdout",
     "output_type": "stream",
     "text": [
      "euclidean , k = 1\n",
      "Accuracy: 0.84375\n",
      "Confusion Matrix\n",
      " [[11.  5.]\n",
      " [ 0. 16.]] \n",
      "\n",
      "euclidean , k = 2\n",
      "Accuracy: 0.8125\n",
      "Confusion Matrix\n",
      " [[12.  4.]\n",
      " [ 2. 14.]] \n",
      "\n",
      "euclidean , k = 3\n",
      "Accuracy: 0.875\n",
      "Confusion Matrix\n",
      " [[12.  4.]\n",
      " [ 0. 16.]] \n",
      "\n",
      "cosine , k = 1\n",
      "Accuracy: 0.75\n",
      "Confusion Matrix\n",
      " [[10.  6.]\n",
      " [ 2. 14.]] \n",
      "\n",
      "cosine , k = 2\n",
      "Accuracy: 0.78125\n",
      "Confusion Matrix\n",
      " [[12.  4.]\n",
      " [ 3. 13.]] \n",
      "\n",
      "cosine , k = 3\n",
      "Accuracy: 0.8125\n",
      "Confusion Matrix\n",
      " [[11.  5.]\n",
      " [ 1. 15.]] \n",
      "\n"
     ]
    },
    {
     "data": {
      "image/png": "[encoded data removed]",
      "text/plain": [
       "<Figure size 432x288 with 1 Axes>"
      ]
     },
     "metadata": {},
     "output_type": "display_data"
    }
   ],
   "source": [
    "accuracy_over_time_eu = []\n",
    "accuracy_over_time_cos = []\n",
    "k_range = [1,2,3]\n",
    "\n",
    "for k in k_range:\n",
    "    pred_Y = knn(sneeze_snore_train_rescaled_X, sneeze_snore_train_Y, sneeze_snore_test_rescaled_X, 'euclidean', k)\n",
    "    acc, conf = evaluation(pred_Y, sneeze_snore_test_Y, 2)\n",
    "    accuracy_over_time_eu.append(acc)\n",
    "    print('euclidean', ', k =', k)\n",
    "    print(\"Accuracy:\", acc)\n",
    "    print(\"Confusion Matrix\\n\", conf, '\\n')\n",
    "\n",
    "for k in k_range:\n",
    "    pred_Y = knn(sneeze_snore_train_rescaled_X, sneeze_snore_train_Y, sneeze_snore_test_rescaled_X, 'cosine', k)\n",
    "    acc, conf = evaluation(pred_Y, sneeze_snore_test_Y, 2)\n",
    "    accuracy_over_time_cos.append(acc)\n",
    "    print('cosine', ', k =', k)\n",
    "    print(\"Accuracy:\", acc)\n",
    "    print(\"Confusion Matrix\\n\", conf, '\\n')\n",
    "\n",
    "plt.xlabel(\"K Neighbors\")\n",
    "plt.ylabel(\"Accuracy\")\n",
    "plt.xticks(k_range)\n",
    "plt.plot(k_range, accuracy_over_time_eu)\n",
    "plt.plot(k_range, accuracy_over_time_cos)\n",
    "legend_elems = [matplotlib.lines.Line2D([0], [0], color='blue', label='euclidean'),\n",
    "                matplotlib.lines.Line2D([0], [0], color='orange', label='cosine')]\n",
    "plt.legend(handles=legend_elems)\n",
    "plt.show()\n",
    "\n",
    "# raise NotImplementedError # delete this line when you add your solution"
   ]
  },
  {
   "cell_type": "markdown",
   "metadata": {
    "deletable": false,
    "nbgrader": {
     "checksum": "5af46358652364978433b5e9bedd99e9",
     "grade": true,
     "grade_id": "cell-c5543d57deb012b0",
     "locked": false,
     "points": 1,
     "schema_version": 1,
     "solution": true
    }
   },
   "source": [
    "YOUR ANSWER HERE"
   ]
  }
 ],
 "metadata": {
  "kernelspec": {
   "display_name": "Python 3",
   "language": "python",
   "name": "python3"
  },
  "language_info": {
   "codemirror_mode": {
    "name": "ipython",
    "version": 3
   },
   "file_extension": ".py",
   "mimetype": "text/x-python",
   "name": "python",
   "nbconvert_exporter": "python",
   "pygments_lexer": "ipython3",
   "version": "3.6.2"
  }
 },
 "nbformat": 4,
 "nbformat_minor": 2
}

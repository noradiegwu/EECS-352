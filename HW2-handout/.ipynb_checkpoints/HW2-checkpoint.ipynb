{
 "cells": [
  {
   "cell_type": "markdown",
   "metadata": {
    "deletable": false,
    "editable": false,
    "nbgrader": {
     "checksum": "97b05460e06b09d44ac686a495dddf4a",
     "grade": false,
     "grade_id": "cell-0901040962fc39aa",
     "locked": true,
     "schema_version": 1,
     "solution": false
    }
   },
   "source": [
    "Homework 2 — (20 points)\n",
    "======\n",
    "### What to hand in\n",
    "You are to submit the following things for this homework:\n",
    "1. A Jupyter notebook containing all code and output (figures and audio). I should be able to evaluate the file to reproduce all output. \n",
    "1. Any other data that we tell you to save to a file (e.g. audio files).\n",
    "\n",
    "Note: Make sure to include all the files that are required for the notebook to run **from the submission folder** (e.g. police_noisy.wav). Points will be taken off from submissions that crash because Python cannot find the specified files.\n",
    "\n",
    "### How to hand it in\n",
    "To submit your lab:\n",
    "1. Compress all of the files specified into a .zip file. \n",
    "1. Name the file in the following manner, firstname_lastname_hw1.zip. For example, Bryan_Pardo_hw1.zip. \n",
    "1. Submit this .zip file via Canvas"
   ]
  },
  {
   "cell_type": "markdown",
   "metadata": {
    "deletable": false,
    "editable": false,
    "nbgrader": {
     "checksum": "54451857620145d2be8cde5bc5917323",
     "grade": false,
     "grade_id": "cell-8e751e9060841f1a",
     "locked": true,
     "schema_version": 1,
     "solution": false
    }
   },
   "source": [
    "### Run this code block 1st, to import the needed packages"
   ]
  },
  {
   "cell_type": "code",
   "execution_count": 1,
   "metadata": {
    "deletable": false,
    "editable": false,
    "nbgrader": {
     "checksum": "8bbc3d43495124d0817b860046bc4a9c",
     "grade": false,
     "grade_id": "cell-e271923ff5718c63",
     "locked": true,
     "schema_version": 1,
     "solution": false
    }
   },
   "outputs": [],
   "source": [
    "# This line is a convenience to import most packages you'll need. You may need to import others (e.g. random and cmath)\n",
    "import IPython, numpy as np, scipy as sp, matplotlib.pyplot as plt, matplotlib, sklearn, librosa, cmath,math\n",
    "from IPython.display import Audio\n",
    " \n",
    "# This line makes sure your plots happen IN the webpage you're building, instead of in separate windows.\n",
    "%matplotlib inline"
   ]
  },
  {
   "cell_type": "markdown",
   "metadata": {
    "deletable": false,
    "editable": false,
    "nbgrader": {
     "checksum": "4c6d1b68fecde6f102a8e8d16f6c0eab",
     "grade": false,
     "grade_id": "cell-fa312a501a1ebd0c",
     "locked": true,
     "schema_version": 1,
     "solution": false
    }
   },
   "source": [
    "### Some useful code"
   ]
  },
  {
   "cell_type": "markdown",
   "metadata": {
    "deletable": false,
    "editable": false,
    "nbgrader": {
     "checksum": "5d998aad3b90500a9c6bd8e60be97b6e",
     "grade": false,
     "grade_id": "cell-d4d18ff241ca02d7",
     "locked": true,
     "schema_version": 1,
     "solution": false
    }
   },
   "source": [
    "####  STFT "
   ]
  },
  {
   "cell_type": "code",
   "execution_count": 2,
   "metadata": {
    "deletable": false,
    "editable": false,
    "nbgrader": {
     "checksum": "cdcb28b8a4781eb437843b52b23de0c3",
     "grade": false,
     "grade_id": "cell-06f82c6c1e367bf5",
     "locked": true,
     "schema_version": 1,
     "solution": false
    }
   },
   "outputs": [],
   "source": [
    "from scipy.fftpack import fft\n",
    "from scipy.signal import hann\n",
    "\n",
    "def stft(signal, window_size, hop_size, window_type = 'hann'):\n",
    "    \"\"\"\n",
    "    Computes the short term fourier transform of a 1-D numpy array, where the array \n",
    "    is windowed into a set of subarrays, each of length window_size. The distance between\n",
    "    window centers (in samples) is given by hop_size. The type of window applied is\n",
    "    determined by window_type. This returns a 2-D numpy array where the ith column\n",
    "    is the FFT of the ith window. Each column contains an array of complex values.\n",
    "    \n",
    "    Input Parameters\n",
    "    ----------------\n",
    "    signal: The 1-d (complex or real) numpy array containing the signal\n",
    "    window_size: an integer scalar specifying the number of samples in a window\n",
    "    hop_size: an integer specifying the number of samples between the start of adjacent windows\n",
    "    window_type: a string specifying one of two \"hann\" or \"rectangular\"\n",
    "    \n",
    "    Returns\n",
    "    -------\n",
    "    a 2D numpy array of complex numbers where the array column is the FFT of the ith window,\n",
    "    and the jth element in the ith column is the jth frequency of analysis.\n",
    "    \"\"\"\n",
    "    \n",
    "    # figure out how many hops\n",
    "    length_to_cover_with_hops = len(signal) - window_size;\n",
    "    assert (length_to_cover_with_hops >= 0), \"window_size cannot be longer than the signal to be windowed\"\n",
    "    num_hops = int(1 + np.floor(length_to_cover_with_hops/hop_size));\n",
    "    \n",
    "    # make our window function\n",
    "    if (window_type == 'hann'):\n",
    "        window = sp.signal.hann(window_size, sym=False)\n",
    "    else:\n",
    "        window = np.ones(window_size) # rectangular window\n",
    "    \n",
    "    stft = [0]*num_hops\n",
    "    # fill the array with values \n",
    "    for hop in range(num_hops):\n",
    "        start = hop*hop_size\n",
    "        end = start + window_size\n",
    "        unwindowed_sound = signal[start:end]\n",
    "        windowed_sound =  unwindowed_sound * window\n",
    "        stft[hop]= fft(windowed_sound, window_size) \n",
    "    return np.array(stft).T"
   ]
  },
  {
   "cell_type": "markdown",
   "metadata": {
    "deletable": false,
    "editable": false,
    "nbgrader": {
     "checksum": "012f5d626474677018e134cc421c8a4f",
     "grade": false,
     "grade_id": "cell-3bf079fda0b78ab6",
     "locked": true,
     "schema_version": 1,
     "solution": false
    }
   },
   "source": [
    "#### ISTFT"
   ]
  },
  {
   "cell_type": "code",
   "execution_count": 3,
   "metadata": {
    "deletable": false,
    "editable": false,
    "nbgrader": {
     "checksum": "c8ef4db7089d8c552bf0e8905105d485",
     "grade": false,
     "grade_id": "cell-b6989b2d367dc435",
     "locked": true,
     "schema_version": 1,
     "solution": false
    }
   },
   "outputs": [],
   "source": [
    "from scipy.fftpack import ifft\n",
    "\n",
    "def istft(X, hop_size):\n",
    "    \"\"\"\n",
    "    Takes a 2-D numpy array representing an STFT of some signal, where stft[i,j] is the jth\n",
    "    frequency of analysis in the FFT of the ith window. \n",
    "    Performs an inverse FFT on each window and then does overlap & add resynthesis to rebuild \n",
    "    the original signal the STFT was built from.\n",
    "    \n",
    "    Input Parameters\n",
    "    ----------------\n",
    "    X: a 2-D numpy array of complex numbers representing an STFT, where the ith \n",
    "    column is the FFT of the ith window, and the jth row is the jth frequency of analysis.\n",
    "        \n",
    "    hop_size: an integer specifying the number of samples between the start of adjacent windows.\n",
    "        \n",
    "    Returns\n",
    "    -------\n",
    "    a 1-d numpy array of (possibly complex) values representing the original signal used to make X\n",
    "    \"\"\"\n",
    "    \n",
    "    # make an empty signal of the appropriate length\n",
    "    window_size,num_hops = X.shape\n",
    "    signal_length = (num_hops-1)*hop_size + window_size \n",
    "    signal = np.zeros(signal_length,dtype='complex');\n",
    "    \n",
    "    #fill the signal\n",
    "    for n in range(num_hops):\n",
    "        start = n * hop_size\n",
    "        end = start + window_size\n",
    "        signal[start:end] = signal[start:end] + ifft(X[:,n])\n",
    "    return signal"
   ]
  },
  {
   "cell_type": "code",
   "execution_count": 4,
   "metadata": {
    "deletable": false,
    "editable": false,
    "nbgrader": {
     "checksum": "1ee37af910bce527078e581d4164a471",
     "grade": false,
     "grade_id": "cell-8d4b8e3a9d8f2b74",
     "locked": true,
     "schema_version": 1,
     "solution": false
    }
   },
   "outputs": [
    {
     "name": "stdout",
     "output_type": "stream",
     "text": [
      "reconstruction error: 1.536696595616471e-11\n"
     ]
    }
   ],
   "source": [
    "# test the stft and istft functions\n",
    "x = librosa.load('police_noisy.wav')[0]\n",
    "winlen=1024 \n",
    "hop=np.int(winlen/2)\n",
    "X = stft(x,winlen, hop, window_type = 'hann')\n",
    "x_rec = istft(X, hop)\n",
    "\n",
    "min_len=min(len(x),len(x_rec))\n",
    "# the signal is padded in the beginning and at the end and is not normalized either\n",
    "# so the faded parts should be discarded in the error computation\n",
    "print( 'reconstruction error: '+ str(np.sum(np.abs(x[hop:min_len-hop]-x_rec[hop:min_len-hop]))))\n"
   ]
  },
  {
   "cell_type": "markdown",
   "metadata": {
    "deletable": false,
    "editable": false,
    "nbgrader": {
     "checksum": "e609f2ad4ed8c0c2dba6badb74a29240",
     "grade": false,
     "grade_id": "cell-16427a1bfd41d889",
     "locked": true,
     "schema_version": 1,
     "solution": false
    }
   },
   "source": [
    "#### Spectrogram (plotting function with zooming options)"
   ]
  },
  {
   "cell_type": "code",
   "execution_count": 5,
   "metadata": {
    "deletable": false,
    "editable": false,
    "nbgrader": {
     "checksum": "b7ab68571fc85c7707b24a49fe0b5c34",
     "grade": false,
     "grade_id": "cell-b61d9ed178d4264f",
     "locked": true,
     "schema_version": 1,
     "solution": false
    }
   },
   "outputs": [],
   "source": [
    "def plt_spectrogram(X,win_length, hop_size, sample_rate, zoom_x=None, zoom_y=None,tick_labels='time-freq'):\n",
    "    \"\"\"\n",
    "    Plots the log magnitude spectrogram.\n",
    "    \n",
    "    Input Parameters:\n",
    "    ------------------\n",
    "    X: 2D complex numpy array containing the stft values. Rows correspond to frequency bins and columns to time frames.\n",
    "    win_length: the length of the analysis window\n",
    "    hop_size: the hop size between adjacent windows\n",
    "    sample_rate: sampling frequency\n",
    "    tick_labels: the type of x and y tick labels, there are two options:\n",
    "                 'time-freq': shows times (sec) on the x-axis and frequency (Hz) on the y-axis (default)\n",
    "                 'bin-frame': shows time frame numbers on the x-axis and frequency bin numbers on the y-axis\n",
    "                \n",
    "    zoom_x: 1 by 2 numpy array containing the range of values on the x-axis, e.g. zoom_t = np.array([x_start,x_end])\n",
    "    zoom_y: 1 by 2 numpy array containing the range of values on the y-axis, e.g. zoom_f = np.array([y_start,y_end])\n",
    "    \n",
    "    \n",
    "    Returns:\n",
    "    ---------\n",
    "    times: 1D real numpy array containing time instances corresponding to stft frames\n",
    "    freqs: 1D real numpy array containing frequencies of analyasis up to Nyquist rate\n",
    "    2D plot of the magnitude spectrogram\n",
    "    \"\"\"\n",
    "    \n",
    "    # Find the size of stft\n",
    "    Nf,Nt = np.shape(X)\n",
    "    \n",
    "    # Compute the log magnitude spectrogram\n",
    "    X = 20*np.log10(np.abs(X))\n",
    "\n",
    "    # Extract the lower half of the spectrum for each time frame\n",
    "    X = X[0:int(Nf/2)+1] # make sure to include both 0 and Nyquist frequency\n",
    "    Nf = np.shape(X)[0]\n",
    "        \n",
    "    # Generate time vector for plotting\n",
    "    times = (hop_size/float(sample_rate))*np.arange(Nt)\n",
    "    \n",
    "    # Generate frequency vector for plotting\n",
    "    freqs = (float(sample_rate)/win_length)*np.arange(Nf)\n",
    "    \n",
    "    # Generate time and frequency matrices for pcolormesh\n",
    "    times_matrix,freqs_matrix = np.meshgrid(times,freqs)\n",
    "    \n",
    "    # Plot the log magnitude spectrogram\n",
    "    plt.title('Log magnitude spectrogram')\n",
    "    if tick_labels == 'bin-frame':\n",
    "        plt.pcolormesh(X)\n",
    "        plt.xlabel('Time-frame Number')\n",
    "        plt.ylabel('Frequency-bin Number')\n",
    "    else:\n",
    "        plt.pcolormesh(times_matrix,freqs_matrix,X)\n",
    "        plt.xlabel('Time (sec)')\n",
    "        plt.ylabel('Frequency (Hz)')\n",
    "\n",
    "        \n",
    "    # Zoom in on the plot if specified\n",
    "    if zoom_x is None and zoom_y is None:\n",
    "        plt.axis('tight')\n",
    "        \n",
    "    if zoom_x is not None:\n",
    "        plt.xlim(zoom_x)\n",
    "        \n",
    "    if zoom_y is not None:\n",
    "        plt.ylim(zoom_y)\n",
    "        \n",
    "    return    "
   ]
  },
  {
   "cell_type": "code",
   "execution_count": 6,
   "metadata": {
    "deletable": false,
    "editable": false,
    "nbgrader": {
     "checksum": "b7d8388643dc41518dc35b1cedb1a50a",
     "grade": false,
     "grade_id": "cell-1f1e1427c95846da",
     "locked": true,
     "schema_version": 1,
     "solution": false
    }
   },
   "outputs": [
    {
     "data": {
      "image/png": "[encoded data removed]",
      "text/plain": [
       "<Figure size 432x288 with 1 Axes>"
      ]
     },
     "metadata": {},
     "output_type": "display_data"
    }
   ],
   "source": [
    "# test the plt-spectrogram fucntion\n",
    "sr = 44100\n",
    "x = librosa.load('police_noisy.wav',sr)[0]\n",
    "winlen = 1024\n",
    "hop = int(winlen/2)\n",
    "X = stft(x,winlen, hop, window_type = 'hann')\n",
    "plt_spectrogram(X,winlen,hop,sr,zoom_x=np.array([8,10]),zoom_y=np.array([5000,15000]),tick_labels='time-freq')\n"
   ]
  },
  {
   "cell_type": "markdown",
   "metadata": {
    "deletable": false,
    "editable": false,
    "nbgrader": {
     "checksum": "5e92c8bb77434d1a08f84132b4f1050d",
     "grade": false,
     "grade_id": "cell-3689f8a499ed9d52",
     "locked": true,
     "schema_version": 1,
     "solution": false
    }
   },
   "source": [
    "#### Autocorrelation function"
   ]
  },
  {
   "cell_type": "code",
   "execution_count": 7,
   "metadata": {
    "deletable": false,
    "editable": false,
    "nbgrader": {
     "checksum": "bb8d5bb330de7039429d50ad15278be6",
     "grade": false,
     "grade_id": "cell-d14d82b7f37fce0a",
     "locked": true,
     "schema_version": 1,
     "solution": false
    }
   },
   "outputs": [],
   "source": [
    "def acorr(x):\n",
    "    \"\"\"\n",
    "    Takes a 1D numpy array and returns the autocorrelation. \n",
    "    \n",
    "    Input Parameter:\n",
    "    ----------------\n",
    "    x: 1D numpy array of length x_len\n",
    "    \n",
    "    Ouput Parameter:\n",
    "    ----------------\n",
    "    x_acorr: 1D numpy array of length x_len containing the values of the autocorrelation function of x\n",
    "    \n",
    "    Note: the actual length of autocorrelation function is (2*x_len)-1, but since this function is symmetric\n",
    "          we can cut off (x_len)-1 samples and return one side of length x_len without losing information. \n",
    "    \"\"\"\n",
    "    \n",
    "    x_len = np.size(x)\n",
    "    x_pad = np.concatenate([x,np.zeros(x_len-1)])\n",
    "    x_acorr = ifft(np.abs(fft(x_pad))**2).real\n",
    "    x_acorr = x_acorr[0:x_len]\n",
    "    \n",
    "    x_acorr = x_acorr/(np.arange(x_len)[::-1]+1)  # normalize by the number of nonzero additions\n",
    "            \n",
    "    return x_acorr"
   ]
  },
  {
   "cell_type": "markdown",
   "metadata": {
    "deletable": false,
    "editable": false,
    "nbgrader": {
     "checksum": "3c1b385156b4446de3a22b6b36f64a5e",
     "grade": false,
     "grade_id": "cell-b281f0b6002c8b3a",
     "locked": true,
     "schema_version": 1,
     "solution": false
    }
   },
   "source": [
    "# Questions from Week 3  (8 points)"
   ]
  },
  {
   "cell_type": "markdown",
   "metadata": {
    "deletable": false,
    "editable": false,
    "nbgrader": {
     "checksum": "46b0e40b712e8c7e678ebac1486ab700",
     "grade": false,
     "grade_id": "cell-4e74233d4931d952",
     "locked": true,
     "schema_version": 1,
     "solution": false
    }
   },
   "source": [
    "### Note: For Questions 1 through 7, it is OK to use any function from librosa to do your work.\n"
   ]
  },
  {
   "cell_type": "markdown",
   "metadata": {
    "deletable": false,
    "editable": false,
    "nbgrader": {
     "checksum": "f42b512d273290c507eea294c000e944",
     "grade": false,
     "grade_id": "cell-b99436e6783a4bbd",
     "locked": true,
     "schema_version": 1,
     "solution": false
    }
   },
   "source": [
    "#### 1. (1 point) A balloon pop is an approximation of an impulse. A recording of a balloon pop in a room records what echo effects result from an impulse. It lets us estimate the room's impulse response.   The recordings \"balloon_center.wav\" and \"balloon_stage.wav\" are of balloon pops recorded in Ryan Auditorium.  The microphone was placed at the center of the auditorium. For the first recording, the balloon was popped very close to the microphone (balloon_center.wav). For the second one the balloon was popped on the stage, far from the microphone (balloon_stage.wav).\n",
    "\n",
    "#### Assume that the balloon pops were perfect impulses and that the recordings made were perfect recordings of the resulting sound in the room. Explain how to use these recordings to estimate the impulse response of the room and how to add the sound of the auditorium's reverberation to the dry (no reverb) recording. \n"
   ]
  },
  {
   "cell_type": "markdown",
   "metadata": {
    "deletable": false,
    "nbgrader": {
     "checksum": "b89055375ea4edaf1814127d391adea7",
     "grade": true,
     "grade_id": "cell-44e04217e34d5d5e",
     "locked": false,
     "points": 1,
     "schema_version": 1,
     "solution": true
    }
   },
   "source": [
    "######### need help #########\n",
    "The impulse response of a system (e.g. a room) is the output of the system when an impulse is the input.\n",
    "X[k]H[k] = Y[k] when there is no noise, N[k], present (i.e. perfect recording). The input (e.g. the balloon impulse in balloon_center.wav) is X[k], the impulse response of the system/room is H[k], and the sound of the impulse in the room (w/ response) is Y[k]. So, to get the impulse response of the room we have to set H[k] = Y[k]/X[k]."
   ]
  },
  {
   "cell_type": "markdown",
   "metadata": {
    "deletable": false,
    "editable": false,
    "nbgrader": {
     "checksum": "7dfb5964bec4aee73abdaa1ce0f2f66a",
     "grade": false,
     "grade_id": "cell-d33e1aaf65ed2493",
     "locked": true,
     "schema_version": 1,
     "solution": false
    }
   },
   "source": [
    "#### 2. (2 points) Write the code to add the sound of the auditorium's reverberation to the dry recording \"trumpet.wav\" using both recordings (we talked about two different methods for filtering a signal in class, use the one with less computational complexity). Listen to the results and discribe any similarities or differences you notice between the two reverbed sounds.\n",
    "\n",
    "#### Make sure that you COMMENT YOUR CODE to explain each step of the algorithm.  If you don't comment, don't count on full points."
   ]
  },
  {
   "cell_type": "markdown",
   "metadata": {
    "deletable": false,
    "nbgrader": {
     "checksum": "cee7aa323a4a53fd9a00f989251cff6d",
     "grade": true,
     "grade_id": "cell-149143b1c36b285b",
     "locked": false,
     "points": 1,
     "schema_version": 1,
     "solution": true
    }
   },
   "source": [
    "YOUR ANSWER HERE"
   ]
  },
  {
   "cell_type": "code",
   "execution_count": null,
   "metadata": {
    "deletable": false,
    "nbgrader": {
     "checksum": "c454cdcb6b8decc035fb8e9d9c9965bd",
     "grade": true,
     "grade_id": "cell-8a66d40c27e8668e",
     "locked": false,
     "points": 1,
     "schema_version": 1,
     "solution": true
    }
   },
   "outputs": [],
   "source": [
    "# your code goes here\n",
    "'''\n",
    "1. Estimate the impulse response using the method in Q1 and balloon_center.wav + balloon_stage.wav\n",
    "2. Take the trumpet.wav file and perform convolution between it and the impulse response\n",
    "'''\n",
    "\n",
    "# load the audio time series' in \n",
    "balloon_center, b_c_sr = librosa.load(\"ryan_auditorium_recordings/balloon_center.wav\")\n",
    "balloon_stage, b_s_sr = librosa.load(\"ryan_auditorium_recordings/balloon_stage.wav\")\n",
    "trumpet, t_sr = librosa.load(\"trumpet.wav\")\n",
    "\n",
    "# slightly different signal lengths, this is shorter\n",
    "balloon_len = len(balloon_stage)\n",
    "\n",
    "# get the impulse response\n",
    "ryan_impulse_response = balloon_stage/balloon_center[:balloon_len]\n",
    "# print(ryan_impulse_response.shape)\n",
    "\n",
    "Audio(\"trumpet.wav\")\n",
    "# raise NotImplementedError # delete this line when you add your solution"
   ]
  },
  {
   "cell_type": "code",
   "execution_count": null,
   "metadata": {},
   "outputs": [],
   "source": [
    "# cell for running convolution ############ takes a very long time ################\n",
    "# convolution code from the slides\n",
    "def convolution(A,B):\n",
    "    length_a = np.size(A)\n",
    "    length_b = np.size(B)\n",
    "    C = np.zeros(length_a + length_b - 1)\n",
    "    for m in np.arange(length_a):\n",
    "        for n in np.arange(length_b):\n",
    "            C[m + n] = C[m + n] + A[m] * B[n]\n",
    "    return C\n",
    "\n",
    "res = convolution(ryan_impulse_response, trumpet)"
   ]
  },
  {
   "cell_type": "markdown",
   "metadata": {
    "deletable": false,
    "editable": false,
    "nbgrader": {
     "checksum": "aaf770948359c8f5b11f139f7bee28e9",
     "grade": false,
     "grade_id": "cell-976301e87002c9e5",
     "locked": true,
     "schema_version": 1,
     "solution": false
    }
   },
   "source": [
    "#### 3. (1 points) Explain what possible sources of error there are that might mess up the approach you used on question 2 to estimating the auditorium's impulse  response. How you would go about reducing or eliminating these sources of error in your impulse response estimation?"
   ]
  },
  {
   "cell_type": "markdown",
   "metadata": {
    "deletable": false,
    "nbgrader": {
     "checksum": "7806a7ea6320bdeefec1ec875e2f8ada",
     "grade": true,
     "grade_id": "cell-92ba4df637a25327",
     "locked": false,
     "points": 1,
     "schema_version": 1,
     "solution": true
    }
   },
   "source": [
    "There is likely noise from the A/C, movement in the halls around the auditorium, etc. present in the balloon recordings that would get in the way of determining an exact impulse response. Because I was supposed to treat these recordings as perfect, I did not do anything to get rid of that noise. I would instead need to try a method described in the slides to wash out the noise present in the recordings. \n",
    "\n",
    "This would require re-recording the impulse and impulse response several times in ryan auditorium and averaging these values to remove the noise. This works because it assumes that noise is uncorrelated to the signal and is unbiased (centered at zero)."
   ]
  },
  {
   "cell_type": "markdown",
   "metadata": {
    "deletable": false,
    "editable": false,
    "nbgrader": {
     "checksum": "597c285216ee14479f5961347857f996",
     "grade": false,
     "grade_id": "cell-7ae531cc3bc90a6c",
     "locked": true,
     "schema_version": 1,
     "solution": false
    }
   },
   "source": [
    "#### 4. (1 point)  Below is some code we have provided to estimate the impulse response of Ryan auditorium from the recording of a a sine sweep we played in Ryan auditorium. Plot the frequency response function associated with this impulse response function and plot the frequency response of the impulse response you got using the method in Question 1 in the code cell below the provided code. Compare them in the text cell below that. "
   ]
  },
  {
   "cell_type": "code",
   "execution_count": null,
   "metadata": {
    "deletable": false,
    "editable": false,
    "nbgrader": {
     "checksum": "5c243981e0b8240abfc12b993e4e21bc",
     "grade": false,
     "grade_id": "cell-cb9c38925c2427de",
     "locked": true,
     "schema_version": 1,
     "solution": false
    }
   },
   "outputs": [],
   "source": [
    "# load the original sine sweep that was played out through the speaker in the auditorium\n",
    "sine_sweep,sr = librosa.load('sinesweep.wav', 44100)\n",
    "input_size=np.size(sine_sweep)\n",
    "\n",
    "# load the recording made of how the sine sweep sounded in the auditorium\n",
    "sine_sweep_recording,sr = librosa.load('ryan_auditorium_recordings/sinesweep_recording.wav', 44100)\n",
    "output_size = np.size(sine_sweep_recording)\n",
    "\n",
    "# plot an stft of the sine sweep recorded in the auditorium\n",
    "plt.figure(); plt.imshow(20*np.log10(np.abs(librosa.stft(sine_sweep_recording))),origin='lower',aspect='auto')\n",
    "\n",
    "# calculate the response of the inverse filter which will be used to extract the impulse response of the auditorium\n",
    "# from the sine sweep recording\n",
    "freq_range = np.linspace(20,20000,input_size)\n",
    "envelope = freq_range[::-1]**3; \n",
    "inv_filt = envelope*sine_sweep[::-1]\n",
    "inv_filt = inv_filt/max(np.abs(inv_filt))\n",
    "\n",
    "# compute the minimum number of fft point required for filtering (to avoid cirucular convolution)\n",
    "nfft = input_size + output_size - 1\n",
    "nfft = int(2**np.ceil(np.log2(nfft)))\n",
    "\n",
    "# perform inverse filtering in the frequency domian \n",
    "inv_filt_fft = np.fft.fft(inv_filt,nfft)\n",
    "recording_fft = np.fft.fft(sine_sweep_recording,nfft)\n",
    "freq_response = inv_filt_fft*recording_fft\n",
    "impulse_response = np.real(np.fft.ifft(freq_response))\n",
    "\n",
    "# normalize the impulse response obtained through inverse filtering\n",
    "impulse_response = impulse_response/max(np.abs(impulse_response))\n",
    "\n",
    "# since the energy of the impulse response is concentrated at a very short duration (it's almost zero elsewhere)\n",
    "# we need to trim it and extract the non-zero part\n",
    "\n",
    "threshold = 0.005 # this threshold was selected empirically\n",
    "nonzero_idx = np.nonzero(impulse_response>threshold) \n",
    "start = nonzero_idx[0][0] # the first time amplitude passes the threshold \n",
    "stop = start + sr  # the effective length of the impulse response seems to be less than one second \n",
    "\n",
    "impulse_response = impulse_response[start:stop]\n"
   ]
  },
  {
   "cell_type": "code",
   "execution_count": null,
   "metadata": {
    "deletable": false,
    "nbgrader": {
     "checksum": "0cf9cb7d4776b03522eeb836eb8b27c3",
     "grade": true,
     "grade_id": "cell-bb08c3733485da34",
     "locked": false,
     "points": 1,
     "schema_version": 1,
     "solution": true
    }
   },
   "outputs": [],
   "source": [
    "# your code goes here\n",
    "raise NotImplementedError # delete this line when you add your solution\n"
   ]
  },
  {
   "cell_type": "markdown",
   "metadata": {
    "deletable": false,
    "nbgrader": {
     "checksum": "659214f8f902e4e1c5dfc67c817d7514",
     "grade": true,
     "grade_id": "cell-9a7a9ff7d55772cf",
     "locked": false,
     "points": 0,
     "schema_version": 1,
     "solution": true
    }
   },
   "source": [
    "YOUR ANSWER HERE"
   ]
  },
  {
   "cell_type": "markdown",
   "metadata": {
    "deletable": false,
    "editable": false,
    "nbgrader": {
     "checksum": "441a626b025a810973096bc9055a5e58",
     "grade": false,
     "grade_id": "cell-3cb8ffff22267d31",
     "locked": true,
     "schema_version": 1,
     "solution": false
    }
   },
   "source": [
    "#### 5. (1 point) Go on Youtube and listen to the musical piece \"I am sitting in a room\" by Alvin Lucier. Research the piece on the web. Give your reaction to the piece. Explain how it was created. "
   ]
  },
  {
   "cell_type": "markdown",
   "metadata": {
    "deletable": false,
    "nbgrader": {
     "checksum": "e21857574bd90f30f5a386aa1af7e4e5",
     "grade": true,
     "grade_id": "cell-6054b7eee3971137",
     "locked": false,
     "points": 1,
     "schema_version": 1,
     "solution": true
    }
   },
   "source": [
    "Kind of weird to begin with. But a cool idea as he is explaining what he will do. About 9.5 minutes his words becomes unintelligible.\n",
    "It was created by Alvin in a room. He first spoke into the room and recorded his words. He then played back the recording and recorded that. Then played that recording back and recorded that. He continued to do that over and over again until the words in the recording became impossible to hear and all you hear were drone-y tones and frequencies - the natural resonant frequencies of the room."
   ]
  },
  {
   "cell_type": "markdown",
   "metadata": {
    "deletable": false,
    "editable": false,
    "nbgrader": {
     "checksum": "89fb02057ba56db73b192bc02672fcdf",
     "grade": false,
     "grade_id": "cell-e26328f83992e79f",
     "locked": true,
     "schema_version": 1,
     "solution": false
    }
   },
   "source": [
    "#### 6. A (1 point) Implement a function that applies an impulse response to a signal $n$ times, i.e. passes a signal $n$ times through a filter. You will use this function for recreating Lucier's piece, without having to play and re-record the signal over and over.\n",
    "\n",
    "NOTE: you may have issues to deal with in terms of normalization or length of impulse response function vs length of the recording. You're going to have to figure out those out (read the notes in the function docstring carefully). "
   ]
  },
  {
   "cell_type": "code",
   "execution_count": null,
   "metadata": {
    "deletable": false,
    "nbgrader": {
     "checksum": "61bd1f8b7fd4bafeb16ee1f0076a6f1d",
     "grade": true,
     "grade_id": "cell-2ce8ba31e092315a",
     "locked": false,
     "points": 1,
     "schema_version": 1,
     "solution": true
    }
   },
   "outputs": [],
   "source": [
    "def reverbit(x, impulse_response, n):\n",
    "    \n",
    "    \"\"\"\n",
    "    Takes a time-domain signal x, applies the impulse_response to it n times and returns the output.\n",
    "    \n",
    "    Input Parameters\n",
    "    ----------------\n",
    "    x: 1D numpy array containing the time domain signal\n",
    "    impulse_response: 1D numpy array containing the room impulse response\n",
    "    n: integer, number of times to filter the signal with the room impulse response\n",
    "                \n",
    "    Returns\n",
    "    -------\n",
    "    x_filt: 1D numpy array that contains the signal with the impulse_response applied n times.  \n",
    "    \n",
    "    Notes:\n",
    "    1. Remember that filtering can be done more efficiently in the frequency domain.\n",
    "    2. If you choose to filter the signal in the frequency domain (recommended), to prevent distortion in the \n",
    "       filtered signal, for every iteration of filtering, you need to zero-pad both x and impulse \n",
    "       response to be of a minimum length of \n",
    "       L_pad = len(x) + len(impulse_response) - 1\n",
    "       You should be able to figure out the minimum length required for n filtering iteration from this formula.\n",
    "       Zero-padding can be done in the time domian by appending zeros at the end of the two signals. \n",
    "       Alternatively, you can use L_pad as an input to the fft function so that it does the zero-padding for you.\n",
    "    3. The computational time of the fft function is greatly affected by the length of the input signal. The function\n",
    "       is most efficient when the signal length is a power of 2, which is why we usually zero-pad input signals to \n",
    "       the next power 2 of their original length, e.g. if the signal length is 10, we zero-pad it to length 16. \n",
    "       So, after computing L_pad as described above, take one more step and find the next power 2 of L_pad and use it\n",
    "       as input to the fft function. It will makes a big difference, especially for long signals.\n",
    "           \n",
    "    \"\"\"\n",
    "    # your code goes here\n",
    "    raise NotImplementedError # delete this line when you add your solution\n",
    "    "
   ]
  },
  {
   "cell_type": "markdown",
   "metadata": {
    "deletable": false,
    "editable": false,
    "nbgrader": {
     "checksum": "0e3c23701a6772d6598109a951b377f7",
     "grade": false,
     "grade_id": "cell-46e96d03c4d6d827",
     "locked": true,
     "schema_version": 1,
     "solution": false
    }
   },
   "source": [
    "#### 7.  (1 point) Recreate Alvin Lucier's piece by recording your voice saying the text of the piece ONCE call that file *my-voice.wav*. Then repeatedly use an impulse response function (you can choose any of the provided impulse responses) applied to the signal, duplicating the effect of Lucier's piece without having to keep re-recording in the physical world.  In the code you submit below, have it  make and play the filter output for $n = 3$ applications of the filter. Also try running the filter for a larger value of $n$, where the effect of the filter becomes very strong.  In your submitted work, include wav files of your original recording (*my-voice.wav*) and the filter output for the largest value of $n$ you try (call it *lucier-max.wav*). In your anwer below, tell us what the value of $n$ was for lucier-max.wav and any issues you encountered."
   ]
  },
  {
   "cell_type": "markdown",
   "metadata": {
    "deletable": false,
    "nbgrader": {
     "checksum": "c3e08ada8a07b21e58a84fc090aa8e21",
     "grade": true,
     "grade_id": "cell-bf4f2f941333573c",
     "locked": false,
     "points": 0,
     "schema_version": 1,
     "solution": true
    }
   },
   "source": [
    "YOUR ANSWER HERE"
   ]
  },
  {
   "cell_type": "code",
   "execution_count": null,
   "metadata": {
    "deletable": false,
    "nbgrader": {
     "checksum": "d2676ce7bc3c03b739a1281969b4f766",
     "grade": true,
     "grade_id": "cell-62bef0c02a1ead2a",
     "locked": false,
     "points": 1,
     "schema_version": 1,
     "solution": true
    }
   },
   "outputs": [],
   "source": [
    "# your code goes here\n",
    "raise NotImplementedError # delete this line when you add your solution"
   ]
  },
  {
   "cell_type": "markdown",
   "metadata": {
    "deletable": false,
    "editable": false,
    "nbgrader": {
     "checksum": "aa2724f90088d9a99904274bcaefc655",
     "grade": false,
     "grade_id": "cell-be6de3cd153b11fe",
     "locked": true,
     "schema_version": 1,
     "solution": false
    }
   },
   "source": [
    "# Questions from Week 4 (12 points)"
   ]
  },
  {
   "cell_type": "markdown",
   "metadata": {
    "deletable": false,
    "editable": false,
    "nbgrader": {
     "checksum": "1388191f55cd41bd879ce28c8e277709",
     "grade": false,
     "grade_id": "cell-8e36df94a7dafa1b",
     "locked": true,
     "schema_version": 1,
     "solution": false
    }
   },
   "source": [
    "### Time-Frequency Masking"
   ]
  },
  {
   "cell_type": "markdown",
   "metadata": {
    "deletable": false,
    "editable": false,
    "nbgrader": {
     "checksum": "db8e4cd3e358f23a98e4d17b022f9162",
     "grade": false,
     "grade_id": "cell-1bcf110df074f37c",
     "locked": true,
     "schema_version": 1,
     "solution": false
    }
   },
   "source": [
    "#### 8. (1 point)  Load *police_noisy.wav*. The audio contains a ringing noise somewhere. Calculate the STFT of the audio signal, denoted by $X$ , using a hann window of length 2048 and 50% overlap between adjacent windows. Use the function plt_spectrogram provided above to plot the log magnitude spectrogram of the audio signal. Identify the region of the ringing noise. It should be a square of about 30 frequency bins by 30 time frames. Write down the frequency and time indices in your report. \n",
    "\n",
    "####  Note: we need to find the coordinates of the noisy region in terms of frequency bin number and time frame number, not in Hz and seconds. You can use the tick_labels parameter to set the values on the x-axis and y-axis to the required units. Moreover, zoom-x and zoom-y parameters can be set to narrower ranges in order to give better estimates of the region boundaries. Be careful about the consistency of zoom-x and zoom-y units with tick-labels.\n"
   ]
  },
  {
   "cell_type": "code",
   "execution_count": null,
   "metadata": {
    "deletable": false,
    "nbgrader": {
     "checksum": "607fbe27844b460661d98d1ca7c986d6",
     "grade": true,
     "grade_id": "cell-2dc6a7a878eb6ce1",
     "locked": false,
     "points": 0,
     "schema_version": 1,
     "solution": true
    }
   },
   "outputs": [],
   "source": [
    "# here's where you show the two spectrograms and determine the region where the noise is\n",
    "# your code goes here\n",
    "raise NotImplementedError # delete this line when you add your solution"
   ]
  },
  {
   "cell_type": "code",
   "execution_count": null,
   "metadata": {
    "deletable": false,
    "nbgrader": {
     "checksum": "332623c7c8e569abfa18d3b039c2ca70",
     "grade": false,
     "grade_id": "cell-64d8cfc8e353aa9c",
     "locked": false,
     "schema_version": 1,
     "solution": true
    }
   },
   "outputs": [],
   "source": [
    "noisy_region_freq = [0, 1] # fill this in with your final answer, 0 and 1 are dummy values\n",
    "noisy_region_time = [0, 1] # fill this in with your final answer, 0 and 1 are dummy values\n",
    "# your code goes here\n",
    "raise NotImplementedError # delete this line when you add your solution"
   ]
  },
  {
   "cell_type": "code",
   "execution_count": null,
   "metadata": {
    "deletable": false,
    "editable": false,
    "nbgrader": {
     "checksum": "caa0edd3d33d653dabc27ee98d235dd8",
     "grade": true,
     "grade_id": "cell-30c9ebaf4445cfcd",
     "locked": true,
     "points": 1,
     "schema_version": 1,
     "solution": false
    }
   },
   "outputs": [],
   "source": [
    "# you don't need to put anything here, this cell is for this autograder"
   ]
  },
  {
   "cell_type": "markdown",
   "metadata": {
    "collapsed": true,
    "deletable": false,
    "editable": false,
    "nbgrader": {
     "checksum": "a22f6fdebb0b828d746a788724d786d2",
     "grade": false,
     "grade_id": "cell-dadd719d8b57629a",
     "locked": true,
     "schema_version": 1,
     "solution": false
    }
   },
   "source": [
    "#### 9. (2 points) Use the frequency and time indices you found in Question 6 to create a simple binary time-frequency mask to apply to $X$ to remove the region of the ringing noise.  Plot the magnitude spectrogram of the denoised audio and check that the region of the ringing noise has been removed.  It wouldn't hurt to play it back for yourself, too.\n",
    "\n",
    "#### Note, you need to derive a full time-frequency mask that masks out the frequency bins you saw in the spectrogram AND ALSO the \"mirror image\" frequency bins above the Nyquist frequency and apply it to the STFT of the noisy audio. Compute the denoised signal by tranforming the masked STFT, $X_{masked}$, back to the time domain.\n"
   ]
  },
  {
   "cell_type": "code",
   "execution_count": null,
   "metadata": {
    "deletable": false,
    "nbgrader": {
     "checksum": "7c5a2dad802571168c31913dddf5e497",
     "grade": true,
     "grade_id": "cell-9509f78092a50199",
     "locked": false,
     "points": 2,
     "schema_version": 1,
     "solution": true
    }
   },
   "outputs": [],
   "source": [
    "# your code goes here\n",
    "raise NotImplementedError # delete this line when you add your solution"
   ]
  },
  {
   "cell_type": "markdown",
   "metadata": {
    "deletable": false,
    "editable": false,
    "nbgrader": {
     "checksum": "41053b090e89d5d256acb4786690d4d2",
     "grade": false,
     "grade_id": "cell-9b0cacc3b57bb18d",
     "locked": true,
     "schema_version": 1,
     "solution": false
    }
   },
   "source": [
    "#### 10. (1 point) Explain why the applying a time-frequecy mask to the magnitude spectrogram instead of the STFT would not be a good idea.  "
   ]
  },
  {
   "cell_type": "markdown",
   "metadata": {
    "deletable": false,
    "nbgrader": {
     "checksum": "05c29e47a10b59c08a87683f0c33a5be",
     "grade": true,
     "grade_id": "cell-7926edf17cf97e71",
     "locked": false,
     "points": 1,
     "schema_version": 1,
     "solution": true
    }
   },
   "source": [
    "YOUR ANSWER HERE"
   ]
  },
  {
   "cell_type": "markdown",
   "metadata": {
    "deletable": false,
    "editable": false,
    "nbgrader": {
     "checksum": "5cf9086777184de4285e058fb238e2bb",
     "grade": false,
     "grade_id": "cell-dc525282750b3bc0",
     "locked": true,
     "schema_version": 1,
     "solution": false
    }
   },
   "source": [
    "### Beat Spectrum"
   ]
  },
  {
   "cell_type": "markdown",
   "metadata": {
    "deletable": false,
    "editable": false,
    "nbgrader": {
     "checksum": "9fd9128b3b1799048597dc2ce0fae95a",
     "grade": false,
     "grade_id": "cell-331089c805f70d7a",
     "locked": true,
     "schema_version": 1,
     "solution": false
    }
   },
   "source": [
    "#### 11. (1 point) Implement the beat spectrum. Use the autocorrelation function we provided you. Do not square the magnitude spectrogram within your function; it will be squared outside the function, in the *repet* function later in the homework. Do not normalize the output beat spectrum by the first element (lag 0) within your function; it will be normalized outside of the function, in the *repet* function. \n",
    "\n",
    "#### NOTE: At this point, it would be a VERY GOOD IDEA to make sure you actually read the [book chapter on REPET](http://music.cs.northwestern.edu/publications/Rafii-Liutkus-Pardo%20-%20REPET%20for%20Background-Foreground%20Separation%20in%20Audio%20-%20Springer%202014.pdf) \n"
   ]
  },
  {
   "cell_type": "code",
   "execution_count": null,
   "metadata": {
    "deletable": false,
    "nbgrader": {
     "checksum": "56f72ef604872aa3e121b5ad2d126457",
     "grade": true,
     "grade_id": "cell-d910928cacee602d",
     "locked": false,
     "points": 1,
     "schema_version": 1,
     "solution": true
    }
   },
   "outputs": [],
   "source": [
    "def beat_spectrum(V):\n",
    "    \"\"\"\n",
    "    Computes the beat spectrum of a music mixture by applyting the autocorrelation to all frequency channels (rows)\n",
    "    of the spectrogram and taking the average. Note that the assumption is that the mixture is composed of a repeating\n",
    "    background and a non-repeating foreground. Therefore, the spikes in the beat spectrum represent the repetitive \n",
    "    events in the spectrogram.\n",
    "    \n",
    "    Input Parameter:\n",
    "    ----------------\n",
    "    V: 2D numpy array containing the magnitude spectrogram (i.e. the absolute values, not the complex) of a signal\n",
    "    \n",
    "    Output Parameter:\n",
    "    ------------------\n",
    "    beat_spec: 1D numpy array containing the beat spectrum \n",
    "    \n",
    "    \"\"\"\n",
    "    # your code goes here\n",
    "    raise NotImplementedError # delete this line when you add your solution"
   ]
  },
  {
   "cell_type": "markdown",
   "metadata": {
    "deletable": false,
    "editable": false,
    "nbgrader": {
     "checksum": "50be7d3c162b89fcafaf4e5e052e2374",
     "grade": false,
     "grade_id": "cell-73a203b3a9e35fd9",
     "locked": true,
     "schema_version": 1,
     "solution": false
    }
   },
   "source": [
    "#### 12. (1 point) Apply the *beat_spectrum* function to the element-wise squared version of the magnitude spectrogram, $V^2$.  Plot the beat spectrum.  Explain how you would find the period of the repeating structure from the beat spectrum. Remember that the repeating period does not necessarily correspond to the first highest peak. Remember also that the beat spectrum goes from lag 0 to lag n-1, where n is the length of the input signal."
   ]
  },
  {
   "cell_type": "markdown",
   "metadata": {
    "deletable": false,
    "nbgrader": {
     "checksum": "bde6f6d3d92966fbdedeb0742f812dfc",
     "grade": true,
     "grade_id": "cell-14e2c828db03a134",
     "locked": false,
     "points": 0,
     "schema_version": 1,
     "solution": true
    }
   },
   "source": [
    "YOUR ANSWER HERE"
   ]
  },
  {
   "cell_type": "code",
   "execution_count": null,
   "metadata": {
    "deletable": false,
    "nbgrader": {
     "checksum": "cafb8c1435238913dd0dc23eb09bdd8e",
     "grade": true,
     "grade_id": "cell-d65dd62a93112084",
     "locked": false,
     "points": 1,
     "schema_version": 1,
     "solution": true
    }
   },
   "outputs": [],
   "source": [
    "# your code goes here\n",
    "raise NotImplementedError # delete this line when you add your solution"
   ]
  },
  {
   "cell_type": "markdown",
   "metadata": {
    "deletable": false,
    "editable": false,
    "nbgrader": {
     "checksum": "065dfd0b4783875e15825f30341102f1",
     "grade": false,
     "grade_id": "cell-2c1380bbf7c366b7",
     "locked": true,
     "schema_version": 1,
     "solution": false
    }
   },
   "source": [
    "#### 13.  (2 points) Implement a repeating-segment modeling function (Hint: use the numpy *median* function). Note that after segmentation of the spectrogram, the last segment is generally shorter (in time frames) than the other segments, because the number of time frames is not necessarily an integer multiple of the repeating period; Think about how you would handle that.\n",
    "\n",
    "#### NOTE: If you didn't take the hint on question 9, maybe now would be the time to read the [book chapter on REPET](http://music.cs.northwestern.edu/publications/Rafii-Liutkus-Pardo%20-%20REPET%20for%20Background-Foreground%20Separation%20in%20Audio%20-%20Springer%202014.pdf) "
   ]
  },
  {
   "cell_type": "code",
   "execution_count": null,
   "metadata": {
    "deletable": false,
    "nbgrader": {
     "checksum": "4671cf21fb860ddcb866d326a8ccad57",
     "grade": true,
     "grade_id": "cell-9e3486cea4c9d973",
     "locked": false,
     "points": 2,
     "schema_version": 1,
     "solution": true
    }
   },
   "outputs": [],
   "source": [
    "def repeating_segment(V,p):\n",
    "    \"\"\"\n",
    "    Computes the repeating-segment model using the period obtained from the beat spectrum. \n",
    "    Once the repeating period p is estimated, we use it to segment the mixture spectrogram \n",
    "    V into r segments of length p. We then take the element-wise median of the r segments \n",
    "    and obtain the repeating segment model S. (See the course reading for more detail)\n",
    "    \n",
    "    Input Parameters:\n",
    "    -----------------\n",
    "    V: 2D numpy array containing the magnitude spectrogram of the mixture\n",
    "    p: scalar, repeating period (in number of time steps) found from the beat spectrum \n",
    "    \n",
    "    Output Parameter:\n",
    "    S: 2D numpy array containing the repeating segment \n",
    "    \"\"\"  \n",
    "    # your code goes here\n",
    "    raise NotImplementedError # delete this line when you add your solution"
   ]
  },
  {
   "cell_type": "code",
   "execution_count": null,
   "metadata": {
    "deletable": false,
    "editable": false,
    "nbgrader": {
     "checksum": "48486569fd1d7062dbe479279e409029",
     "grade": true,
     "grade_id": "cell-84d9d3b03f012671",
     "locked": true,
     "points": 0,
     "schema_version": 1,
     "solution": false
    }
   },
   "outputs": [],
   "source": [
    "# Test the function\n",
    "S = repeating_segment(V,88)   \n",
    "plt.figure()\n",
    "plt.pcolormesh(10*np.log10(S))\n",
    "plt.axis('tight')"
   ]
  },
  {
   "cell_type": "markdown",
   "metadata": {},
   "source": [
    "#### 14. (1 point) Implement a repeating spectrogram modeling function (Hint: use the min function). Remember, the last segment in your spectrogram is generally shorter than the repeating segment model. "
   ]
  },
  {
   "cell_type": "code",
   "execution_count": null,
   "metadata": {
    "deletable": false,
    "nbgrader": {
     "checksum": "221c5507208f87abba4e95ebe7a3590c",
     "grade": true,
     "grade_id": "cell-898c5df54981e0b8",
     "locked": false,
     "points": 1,
     "schema_version": 1,
     "solution": true
    }
   },
   "outputs": [],
   "source": [
    "def repeating_spectrogram(V,S):\n",
    "    \"\"\"\n",
    "    Once the repeating segment model S is calculated, we use it to derive a repeating spectrogram model W, \n",
    "    by taking the element-wise minimum between S and each of the r segments of the mixture spectrogram V.\n",
    "    See the course reading on REPET for more details of what to do here.\n",
    "    \n",
    "    Input Parameters:\n",
    "    -----------------\n",
    "    V: 2D numpy array containing the magnitude spectrogram of the mixture\n",
    "    S: 2D numpy array containing the repeating segment model \n",
    "    \n",
    "    Output Parameter:\n",
    "    ------------------\n",
    "    W: 2D numpy array containing the repeating-spectrogram \n",
    "    \"\"\"\n",
    "    # your code goes here\n",
    "    raise NotImplementedError # delete this line when you add your solution"
   ]
  },
  {
   "cell_type": "code",
   "execution_count": null,
   "metadata": {
    "deletable": false,
    "editable": false,
    "nbgrader": {
     "checksum": "faffdac83e9e04c8f479a8376017f4bd",
     "grade": true,
     "grade_id": "cell-066c0fe1d4a1a8e5",
     "locked": true,
     "points": 0,
     "schema_version": 1,
     "solution": false
    }
   },
   "outputs": [],
   "source": [
    "# Test the function\n",
    "W=repeating_spectrogram(V,S)   \n",
    "plt.figure()\n",
    "plt.pcolormesh(10*np.log10(W))\n",
    "plt.axis('tight')"
   ]
  },
  {
   "cell_type": "markdown",
   "metadata": {
    "deletable": false,
    "editable": false,
    "nbgrader": {
     "checksum": "10388274267d0dfdf596f61f90d56bfa",
     "grade": false,
     "grade_id": "cell-569cec6375c17df5",
     "locked": true,
     "schema_version": 1,
     "solution": false
    }
   },
   "source": [
    "#### 15. (1 point) Implement a repeating-mask modeling function (Hint: use  division). Note that there could be zero values in your spectrogram. Think about how to handle that. "
   ]
  },
  {
   "cell_type": "code",
   "execution_count": null,
   "metadata": {
    "deletable": false,
    "nbgrader": {
     "checksum": "31472c37dcbac16d7740c14a0d002bc4",
     "grade": true,
     "grade_id": "cell-fe05e0f332a738f3",
     "locked": false,
     "points": 1,
     "schema_version": 1,
     "solution": true
    }
   },
   "outputs": [],
   "source": [
    "def repeating_mask(V,W):\n",
    "    \"\"\"\n",
    "    Computes the repeating mask from the magnitude spectrogram and the repeating spectrogram. Note that unlike the \n",
    "    denoising case in the first question, here we are computing a \"soft mask\" with values ranging between 0 and 1.\n",
    "    \n",
    "    Input Parameters:\n",
    "    -----------------\n",
    "    V: numpy 2D array containing the magnitude spectrogram \n",
    "    W: numpy 2D array containing the repeating spectrogram\n",
    "    \n",
    "    Output Parameter:\n",
    "    M: numpy 2D array containing the repeating mask \n",
    "    \"\"\"\n",
    "    # your code goes here\n",
    "    raise NotImplementedError # delete this line when you add your solution\n",
    "\n",
    "\n"
   ]
  },
  {
   "cell_type": "code",
   "execution_count": null,
   "metadata": {
    "deletable": false,
    "editable": false,
    "nbgrader": {
     "checksum": "2b1091cac78f1da50954a4f5abc919e2",
     "grade": true,
     "grade_id": "cell-20cf35ef3d5a6ca6",
     "locked": true,
     "points": 0,
     "schema_version": 1,
     "solution": false
    }
   },
   "outputs": [],
   "source": [
    "# Test the function\n",
    "soft_mask = repeating_mask(V,W)\n",
    "plt.figure()\n",
    "plt.pcolormesh(soft_mask)\n",
    "plt.axis('tight')"
   ]
  },
  {
   "cell_type": "markdown",
   "metadata": {
    "deletable": false,
    "editable": false,
    "nbgrader": {
     "checksum": "bd8270362ac87e14e3b9b2f264369dff",
     "grade": false,
     "grade_id": "cell-05a6416b80a50ca3",
     "locked": true,
     "schema_version": 1,
     "solution": false
    }
   },
   "source": [
    "### Music-voice Separation with REPET"
   ]
  },
  {
   "cell_type": "code",
   "execution_count": null,
   "metadata": {
    "deletable": false,
    "editable": false,
    "nbgrader": {
     "checksum": "9aa1d98344b76d8b4a73507106c23a9f",
     "grade": false,
     "grade_id": "cell-9fdc75353b24fa15",
     "locked": true,
     "schema_version": 1,
     "solution": false
    }
   },
   "outputs": [],
   "source": [
    "def repet(file_path, rep_period, mask_thr):\n",
    "    \"\"\"\n",
    "    Runs the REPET algorithm using functions implemented in qustions 3 through 8. \n",
    "    \n",
    "    Input Parameters:\n",
    "    ------------------\n",
    "    file_path: string, path to the audio file to separate\n",
    "    rep_period: scalar, repeating period in number of samples\n",
    "    mask_thr: scalar, a value between 0 and 1 for thresholding the soft mask\n",
    "    \n",
    "    Plots:\n",
    "    --------\n",
    "    Separated background and foreground magnitude spectrogram plots \n",
    "    \n",
    "    Returns: \n",
    "    ---------\n",
    "    Separated background and foreground time signals\n",
    "    \"\"\"\n",
    "    \n",
    "    # Load the noisy mixture\n",
    "    signal, sample_rate = librosa.load(file_path, 44100) \n",
    "\n",
    "    # Comput the stft of the audio signal \n",
    "    win_length_sec = 0.04 # 40 msec window\n",
    "    win_length_samp = int(2**np.ceil(np.log2(win_length_sec*sample_rate))) # next power2 of winow length in no. of samples\n",
    "    n_fft = win_length_samp\n",
    "    hop_size = np.int(win_length_samp/2) # 50% overlap\n",
    "    win_type = sp.signal.hanning\n",
    "    X = stft(signal, win_length_samp, hop_size, window_type = 'hann')\n",
    "\n",
    "    # Compute the magnitude spectrogram (half spectrum)\n",
    "    Vm = np.abs(X[0:np.int(win_length_samp/2)+1,:])\n",
    "    Nf,Nt = Vm.shape\n",
    "    \n",
    "    \n",
    "    # Compute and plot the beat spectrum\n",
    "    beat_spec = beat_spectrum(Vm**2)\n",
    "    beat_spec = beat_spec/beat_spec[0] # normalization\n",
    "    \n",
    "    plt.figure()\n",
    "    plt.plot(beat_spec)\n",
    "    plt.grid(True)\n",
    "    plt.axis('tight')\n",
    "    plt.xlabel('Lag (sample number)')\n",
    "    plt.title('Beat spectrum of the noisy mixture')\n",
    "    \n",
    "    ### REPET Algorithm ###\n",
    "    \n",
    "    # Compute the repeating soft mask\n",
    "    Sm = repeating_segment(Vm,rep_period)\n",
    "    Wm = repeating_spectrogram(Vm,Sm)\n",
    "    soft_mask = repeating_mask(Vm,Wm)\n",
    "    \n",
    "#     plt.figure()\n",
    "#     plt.pcolormesh(soft_mask)\n",
    "    \n",
    "    # Compute the repeating binary mask\n",
    "    binary_mask = np.zeros(soft_mask.shape)\n",
    "    binary_mask[soft_mask>=mask_thr] = 1\n",
    "    \n",
    "    \n",
    "    # Estimate the background and foreground via masking\n",
    "    binary_mask = np.vstack([binary_mask,np.flipud(binary_mask[1:-1,:])])\n",
    "    \n",
    "    X_bg = binary_mask*X+1e-16  # background STFT\n",
    "    signal_bg = np.real(istft(X_bg, hop_size)) # background time signal\n",
    "    \n",
    "    X_fg = (1-binary_mask)*X+1e-16  # foreground STFT\n",
    "    signal_fg = np.real(istft(X_fg, hop_size)) # foreground time signal\n",
    "            \n",
    "    # Plot the log magnitude spectrograms and the binary mask\n",
    "    plt.figure()    \n",
    "    plt.subplot(211)\n",
    "    plt_spectrogram(X,win_length_samp, hop_size, sample_rate,tick_labels='time-freq')\n",
    "    plt.title('Mixture')\n",
    "        \n",
    "    plt.subplot(212)\n",
    "    plt.pcolormesh(binary_mask[0:Nf,:])\n",
    "    plt.xlabel('Time (sec)')\n",
    "    plt.ylabel('Frequency (Hz)')\n",
    "    plt.title('Binary mask')\n",
    "    plt.axis('tight')\n",
    "    \n",
    "    plt.figure()\n",
    "    plt.subplot(211)\n",
    "    plt_spectrogram(X_bg,win_length_samp, hop_size, sample_rate,tick_labels='time-freq')\n",
    "    plt.title('Background')\n",
    "    \n",
    "    plt.subplot(212)\n",
    "    plt_spectrogram(X_fg,win_length_samp, hop_size, sample_rate,tick_labels='time-freq')\n",
    "    plt.title('Foreground')\n",
    "    \n",
    "    return signal_bg,signal_fg\n",
    "\n",
    "    "
   ]
  },
  {
   "cell_type": "markdown",
   "metadata": {},
   "source": [
    "#### 16.  (2 point) The function provided above runs the REPET algorithm using functions you wrote in previous questions. REPET builds a soft time-frequency mask (with values between 0 and 1), but we can also derive a binary time-frequency mask from it (with values of only 0s and 1s). To do so, we simply use a threshold value between 0 and 1 in the soft mask, so that values above the threshold will be forced to 1, while values below the threshold will be forced to 0. A binary mask can help to improve the perception of separation, but it will also increase the separation artifacts. \n",
    "\n",
    "#### Select the value of the repeating period in samples and the value of the masking threshold. Try different values of the masking threshold and compute the background and foreground audio estimates. Listen to the estimate and plot the magnitude spectrograms of the background and foreground estimates for each masking threshold you try. Write down the value of the masking threshold that gave you the best separation results.\n",
    "\n",
    "\n",
    "#### Describe the separation results that you have obtained. Are the repeating musical background and the non-repeating vocal foreground well separated? Could you have done as well as the algorithm, if you built a maks by hand?  What  happened to the ringing noise? Why? "
   ]
  },
  {
   "cell_type": "markdown",
   "metadata": {
    "deletable": false,
    "nbgrader": {
     "checksum": "eae57a0003e1e52e4f85dab9616c00bc",
     "grade": true,
     "grade_id": "cell-ab30399c76a4ade9",
     "locked": false,
     "points": 2,
     "schema_version": 1,
     "solution": true
    }
   },
   "source": [
    "YOUR ANSWER HERE"
   ]
  },
  {
   "cell_type": "code",
   "execution_count": null,
   "metadata": {
    "deletable": false,
    "nbgrader": {
     "checksum": "849944fc363b77e961869c1a5b68c3c1",
     "grade": true,
     "grade_id": "cell-765b2a530cc5d84e",
     "locked": false,
     "points": 0,
     "schema_version": 1,
     "solution": true
    }
   },
   "outputs": [],
   "source": [
    "# your code goes here\n",
    "raise NotImplementedError # delete this line when you add your solution"
   ]
  }
 ],
 "metadata": {
  "kernelspec": {
   "display_name": "Python 3",
   "language": "python",
   "name": "python3"
  },
  "language_info": {
   "codemirror_mode": {
    "name": "ipython",
    "version": 3
   },
   "file_extension": ".py",
   "mimetype": "text/x-python",
   "name": "python",
   "nbconvert_exporter": "python",
   "pygments_lexer": "ipython3",
   "version": "3.6.2"
  }
 },
 "nbformat": 4,
 "nbformat_minor": 1
}
